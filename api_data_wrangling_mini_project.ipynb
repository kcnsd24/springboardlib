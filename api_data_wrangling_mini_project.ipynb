{
 "cells": [
  {
   "cell_type": "markdown",
   "metadata": {},
   "source": [
    "This exercise will require you to pull some data from the Qunadl API. Qaundl is currently the most widely used aggregator of financial market data."
   ]
  },
  {
   "cell_type": "markdown",
   "metadata": {},
   "source": [
    "As a first step, you will need to register a free account on the http://www.quandl.com website."
   ]
  },
  {
   "cell_type": "markdown",
   "metadata": {},
   "source": [
    "After you register, you will be provided with a unique API key, that you should store:"
   ]
  },
  {
   "cell_type": "code",
   "execution_count": 20,
   "metadata": {},
   "outputs": [],
   "source": [
    "# Store the API key as a string - according to PEP8, constants are always named in all upper case\n",
    "API_KEY = 'csxZ9ww96FZVwS8kDkoa'"
   ]
  },
  {
   "cell_type": "markdown",
   "metadata": {},
   "source": [
    "Qaundl has a large number of data sources, but, unfortunately, most of them require a Premium subscription. Still, there are also a good number of free datasets."
   ]
  },
  {
   "cell_type": "markdown",
   "metadata": {},
   "source": [
    "For this mini project, we will focus on equities data from the Frankfurt Stock Exhange (FSE), which is available for free. We'll try and analyze the stock prices of a company called Carl Zeiss Meditec, which manufactures tools for eye examinations, as well as medical lasers for laser eye surgery: https://www.zeiss.com/meditec/int/home.html. The company is listed under the stock ticker AFX_X."
   ]
  },
  {
   "cell_type": "markdown",
   "metadata": {},
   "source": [
    "You can find the detailed Quandl API instructions here: https://docs.quandl.com/docs/time-series"
   ]
  },
  {
   "cell_type": "markdown",
   "metadata": {},
   "source": [
    "While there is a dedicated Python package for connecting to the Quandl API, we would prefer that you use the *requests* package, which can be easily downloaded using *pip* or *conda*. You can find the documentation for the package here: http://docs.python-requests.org/en/master/ "
   ]
  },
  {
   "cell_type": "markdown",
   "metadata": {},
   "source": [
    "Finally, apart from the *requests* package, you are encouraged to not use any third party Python packages, such as *pandas*, and instead focus on what's available in the Python Standard Library (the *collections* module might come in handy: https://pymotw.com/3/collections/ ).\n",
    "Also, since you won't have access to DataFrames, you are encouraged to us Python's native data structures - preferably dictionaries, though some questions can also be answered using lists.\n",
    "You can read more on these data structures here: https://docs.python.org/3/tutorial/datastructures.html"
   ]
  },
  {
   "cell_type": "markdown",
   "metadata": {},
   "source": [
    "Keep in mind that the JSON responses you will be getting from the API map almost one-to-one to Python's dictionaries. Unfortunately, they can be very nested, so make sure you read up on indexing dictionaries in the documentation provided above."
   ]
  },
  {
   "cell_type": "code",
   "execution_count": 21,
   "metadata": {},
   "outputs": [],
   "source": [
    "# First, import the relevant modules\n",
    "import requests\n",
    "import statistics as stats"
   ]
  },
  {
   "cell_type": "code",
   "execution_count": 22,
   "metadata": {},
   "outputs": [],
   "source": [
    "# Now, call the Quandl API and pull out a small sample of the data (only one day) to get a glimpse\n",
    "# into the JSON structure that will be returned\n",
    "url = \"https://www.quandl.com/api/v3/datasets/WIKI/FB.json?column_index=4&start_date=2014-01-01&end_date=2014-01-02&collapse=monthly&transform=rdiff&api_key=csxZ9ww96FZVwS8kDkoa\"\n",
    "r = requests.get(url)\n",
    "text = r.text"
   ]
  },
  {
   "cell_type": "code",
   "execution_count": 23,
   "metadata": {},
   "outputs": [
    {
     "name": "stdout",
     "output_type": "stream",
     "text": [
      "{\"dataset\":{\"id\":9775687,\"dataset_code\":\"FB\",\"database_code\":\"WIKI\",\"name\":\"Facebook Inc. (FB) Prices, Dividends, Splits and Trading Volume\",\"description\":\"End of day open, high, low, close and volume, dividends and splits, and split/dividend adjusted open, high, low close and volume for Facebook, Inc. (FB). Ex-Dividend is non-zero on ex-dividend dates. Split Ratio is 1 on non-split dates. Adjusted prices are calculated per CRSP (www.crsp.com/products/documentation/crsp-calculations)\\n\\nThis data is in the public domain. You may copy, distribute, disseminate or include the data in other products for commercial and/or noncommercial purposes.\\n\\nThis data is part of Quandl's Wiki initiative to get financial data permanently into the public domain. Quandl relies on users like you to flag errors and provide data where data is wrong or missing. Get involved: connect@quandl.com\\n\",\"refreshed_at\":\"2018-03-27T21:46:11.036Z\",\"newest_available_date\":\"2018-03-27\",\"oldest_available_date\":\"2012-05-18\",\"column_names\":[\"Date\",\"Close\"],\"frequency\":\"daily\",\"type\":\"Time Series\",\"premium\":false,\"limit\":null,\"transform\":\"rdiff\",\"column_index\":4,\"start_date\":\"2014-01-01\",\"end_date\":\"2014-01-02\",\"data\":[],\"collapse\":\"monthly\",\"order\":null,\"database_id\":4922}}\n"
     ]
    }
   ],
   "source": [
    "# Inspect the JSON structure of the object you created, and take note of how nested it is,\n",
    "# as well as the overall structure\n",
    "print(text)"
   ]
  },
  {
   "cell_type": "markdown",
   "metadata": {},
   "source": [
    "These are your tasks for this mini project:\n",
    "\n",
    "1. Collect data from the Franfurt Stock Exchange, for the ticker AFX_X, for the whole year 2017 (keep in mind that the date format is YYYY-MM-DD).\n",
    "2. Convert the returned JSON object into a Python dictionary.\n",
    "3. Calculate what the highest and lowest opening prices were for the stock in this period.\n",
    "4. What was the largest change in any one day (based on High and Low price)?\n",
    "5. What was the largest change between any two days (based on Closing Price)?\n",
    "6. What was the average daily trading volume during this year?\n",
    "7. (Optional) What was the median trading volume during this year. (Note: you may need to implement your own function for calculating the median.)"
   ]
  },
  {
   "cell_type": "code",
   "execution_count": 24,
   "metadata": {},
   "outputs": [],
   "source": [
    "#newurl =\"https://www.quandl.com/api/v3/datasets/FSE/AFX_X.json?column_index=1&start_date=2017-01-01&end_date=2017-12-31&collapse=daily&transform=rdiff&api_key=csxZ9ww96FZVwS8kDkoa\"\n",
    "newurl = \"https://www.quandl.com/api/v3/datasets/FSE/AFX_X/data.json?start_date=2017-01-01&end_date=2017-12-31&api_key=csxZ9ww96FZVwS8kDkoa\"\n",
    "newr = requests.get(newurl)\n",
    "json_data = newr.json()\n",
    "#for key, value in json_data.items():\n",
    " #   print(k + ':', value)"
   ]
  },
  {
   "cell_type": "code",
   "execution_count": 25,
   "metadata": {},
   "outputs": [],
   "source": [
    "#json_data"
   ]
  },
  {
   "cell_type": "code",
   "execution_count": 26,
   "metadata": {},
   "outputs": [
    {
     "name": "stdout",
     "output_type": "stream",
     "text": [
      "The highest open price is $ 53.11\n",
      "The lowest open price is $ 34.0\n"
     ]
    }
   ],
   "source": [
    "#highest and lowest price based on open\n",
    "index_open = json_data['dataset_data']['column_names'].index('Open')\n",
    "open_price = [day[index_open] for day in json_data['dataset_data']['data'] if day[index_open]]\n",
    "print(\"The highest open price is $\",max(open_price))\n",
    "print(\"The lowest open price is $\",min(open_price))"
   ]
  },
  {
   "cell_type": "code",
   "execution_count": 27,
   "metadata": {},
   "outputs": [
    {
     "name": "stdout",
     "output_type": "stream",
     "text": [
      "<class 'list'>\n",
      "The highest change based on open and close on high and low price is $ -0.44\n"
     ]
    }
   ],
   "source": [
    "#What was the largest change in any one day (based on High and Low price)\n",
    "#assuming change will catalog the largest change for the data\n",
    "index_change = json_data['dataset_data']['column_names'].index('Change')\n",
    "big_change = [change[index_change] for change in json_data['dataset_data']['data'] if change[index_change]]\n",
    "#print(type(index_change))\n",
    "print(type(big_change))\n",
    "print(\"The highest change based on open and close on high and low price is $\", max(big_change))"
   ]
  },
  {
   "cell_type": "code",
   "execution_count": 28,
   "metadata": {},
   "outputs": [
    {
     "name": "stdout",
     "output_type": "stream",
     "text": [
      "The largest difference any two day based on closing price is $ 1.1299999999999955\n"
     ]
    }
   ],
   "source": [
    "#What was the largest change between any two days (based on Closing Price)?\n",
    "index_close = json_data['dataset_data']['column_names'].index('Close')\n",
    "close_pricelst = [day[index_close] for day in json_data['dataset_data']['data'] if day[index_close]]\n",
    "#print(type(index_close))\n",
    "#print(type(close_pricelst))\n",
    "temp = 0\n",
    "temp1 = 0\n",
    "for i in range(0, len(close_pricelst)):\n",
    "    for j in range (i, len(close_pricelst)):\n",
    "        if(close_pricelst[i]) > (close_pricelst[j]):\n",
    "            temp = close_pricelst[i] - close_pricelst[j]\n",
    "            #break \n",
    "        if(close_pricelst[i]) < (close_pricelst[j]):\n",
    "            if ((close_pricelst[j]) - (close_pricelst[i])) > temp:\n",
    "               temp = close_pricelst[j] - close_pricelst[i]\n",
    "            else:\n",
    "               temp1 = temp\n",
    "print(\"The largest difference any two day based on closing price is $\", temp1)\n"
   ]
  },
  {
   "cell_type": "code",
   "execution_count": 29,
   "metadata": {},
   "outputs": [
    {
     "name": "stdout",
     "output_type": "stream",
     "text": [
      "The average trading volume for the year 89124.33725490196\n",
      "The average trading volume for the year by lib 89124.33725490196\n",
      "The median for tradng 76286.0\n"
     ]
    }
   ],
   "source": [
    "#What was the average daily trading volume during this year?\n",
    "#assuming mean of the trading volume will be the average \n",
    "index_tradevol = json_data['dataset_data']['column_names'].index('Traded Volume')\n",
    "tradvol_lst = [tradevol[index_tradevol] for tradevol in json_data['dataset_data']['data'] if tradevol[index_tradevol]]\n",
    "#print(type(index_tradevol))\n",
    "#print(type(tradvol_lst))\n",
    "#print(tradvol_lst)\n",
    "#Avg_Trade_Volume = stats.mean(tradvol_lst)\n",
    "tradvol_lst = [x for x in tradvol_lst if x is not None]\n",
    "Avg_Trade_Volume= sum(tradvol_lst) / len(tradvol_lst) \n",
    "print(\"The average trading volume for the year\", Avg_Trade_Volume)\n",
    "Avg_Trade_Volume2 = stats.mean(tradvol_lst)\n",
    "print(\"The average trading volume for the year by lib\", Avg_Trade_Volume2)\n",
    "#The optional \n",
    "# caluclating median\n",
    "median_tradVol = stats.median(tradvol_lst)\n",
    "print(\"The median for tradng\", median_tradVol)"
   ]
  },
  {
   "cell_type": "code",
   "execution_count": null,
   "metadata": {},
   "outputs": [],
   "source": []
  },
  {
   "cell_type": "code",
   "execution_count": null,
   "metadata": {},
   "outputs": [],
   "source": []
  }
 ],
 "metadata": {
  "kernelspec": {
   "display_name": "Python 3",
   "language": "python",
   "name": "python3"
  },
  "language_info": {
   "codemirror_mode": {
    "name": "ipython",
    "version": 3
   },
   "file_extension": ".py",
   "mimetype": "text/x-python",
   "name": "python",
   "nbconvert_exporter": "python",
   "pygments_lexer": "ipython3",
   "version": "3.8.3"
  }
 },
 "nbformat": 4,
 "nbformat_minor": 4
}
