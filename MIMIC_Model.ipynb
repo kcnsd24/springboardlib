{
 "cells": [
  {
   "cell_type": "markdown",
   "metadata": {},
   "source": [
    "Capstone project based on MIMICiii Db. It has 26 files.\n",
    "1.\tADMISSIONS.csv\n",
    "2.\tCALLOUT\n",
    "3.\tCAREGIVERS\n",
    "4.\tCHARTEVENTS\n",
    "5.\tCPTEVENTS\n",
    "6.\tDATETIMEEVENTS\n",
    "7.\tDIAGNOSES_ICD\n",
    "8.\tDRGCODES\n",
    "9.\tD_CPT\n",
    "10.\tD_ICD_DIAGNOSES\n",
    "11.\tD_ICD_PROCEDURES\n",
    "12.\tD_ITEMS\n",
    "13.\tD_LABITEMS\n",
    "14.\tICUSTAYS\n",
    "15.\tINPUTEVENTS_CV\n",
    "16.\tINPUTEVENTS_MV\n",
    "17.\tLABEVENTS\n",
    "18.\tMICROBIOLOGYEVENTS\n",
    "19.\tNOTEEVENTS\n",
    "20.\tOUTPUTEVENTS\n",
    "21.\tPATIENTS\n",
    "22.\tPRESCRIPTIONS\n",
    "23.\tPROCEDUREEVENTS_MV\n",
    "24.\tPROCEDURES_ICD\n",
    "25.\tSERVICES\n",
    "26.\tTRANSFERS\n",
    "\n",
    "However for the project we will only load ADMISSIONS and DIAGNOSES files. "
   ]
  },
  {
   "cell_type": "code",
   "execution_count": 1,
   "metadata": {},
   "outputs": [],
   "source": [
    "import pandas as pd\n",
    "import numpy as np\n",
    "import os\n",
    "import matplotlib.pyplot as plt\n",
    "import seaborn as sns\n",
    "#Import these to try out the Pandas profiling tool\n",
    "from pathlib import Path\n",
    "import requests\n",
    "import pandas_profiling\n",
    "from pandas_profiling.utils.cache import cache_file\n",
    "import datetime\n",
    "#from library.sb_utils import save_file"
   ]
  },
  {
   "cell_type": "code",
   "execution_count": 2,
   "metadata": {},
   "outputs": [
    {
     "name": "stdout",
     "output_type": "stream",
     "text": [
      "<class 'pandas.core.frame.DataFrame'>\n",
      "RangeIndex: 58976 entries, 0 to 58975\n",
      "Data columns (total 19 columns):\n",
      " #   Column                Non-Null Count  Dtype \n",
      "---  ------                --------------  ----- \n",
      " 0   ROW_ID                58976 non-null  int64 \n",
      " 1   SUBJECT_ID            58976 non-null  int64 \n",
      " 2   HADM_ID               58976 non-null  int64 \n",
      " 3   ADMITTIME             58976 non-null  object\n",
      " 4   DISCHTIME             58976 non-null  object\n",
      " 5   DEATHTIME             5854 non-null   object\n",
      " 6   ADMISSION_TYPE        58976 non-null  object\n",
      " 7   ADMISSION_LOCATION    58976 non-null  object\n",
      " 8   DISCHARGE_LOCATION    58976 non-null  object\n",
      " 9   INSURANCE             58976 non-null  object\n",
      " 10  LANGUAGE              33644 non-null  object\n",
      " 11  RELIGION              58518 non-null  object\n",
      " 12  MARITAL_STATUS        48848 non-null  object\n",
      " 13  ETHNICITY             58976 non-null  object\n",
      " 14  EDREGTIME             30877 non-null  object\n",
      " 15  EDOUTTIME             30877 non-null  object\n",
      " 16  DIAGNOSIS             58951 non-null  object\n",
      " 17  HOSPITAL_EXPIRE_FLAG  58976 non-null  int64 \n",
      " 18  HAS_CHARTEVENTS_DATA  58976 non-null  int64 \n",
      "dtypes: int64(5), object(14)\n",
      "memory usage: 8.5+ MB\n"
     ]
    }
   ],
   "source": [
    "#file1\n",
    "dfADMISSIONS = pd.read_csv(r'C:\\Users\\mkhan74\\Documents\\MIMICiiiDup\\ADMISSIONS.csv')\n",
    "dfADMISSIONS.info()"
   ]
  },
  {
   "cell_type": "markdown",
   "metadata": {},
   "source": [
    "Convert ADMITTIME & DISCHTIME to date time type, the DEATHTIME has a lot of NaNs so won't convert, do that after looking at the rest of the data and dropping the NaNs. "
   ]
  },
  {
   "cell_type": "code",
   "execution_count": 3,
   "metadata": {},
   "outputs": [],
   "source": [
    "dfADMISSIONS['ADMITTIME'] = dfADMISSIONS['ADMITTIME'].astype(str)\n",
    "dfADMISSIONS['ADMITTIME'] = dfADMISSIONS['ADMITTIME'].apply(lambda x:datetime.datetime.strptime(x,'%Y-%m-%d %H:%M:%S'))\n",
    "dfADMISSIONS['DISCHTIME'] = dfADMISSIONS['DISCHTIME'].astype(str)\n",
    "dfADMISSIONS['DISCHTIME'] = dfADMISSIONS['DISCHTIME'].apply(lambda x:datetime.datetime.strptime(x,'%Y-%m-%d %H:%M:%S'))"
   ]
  },
  {
   "cell_type": "code",
   "execution_count": 4,
   "metadata": {},
   "outputs": [
    {
     "name": "stdout",
     "output_type": "stream",
     "text": [
      "EMERGENCY    42071\n",
      "NEWBORN       7863\n",
      "ELECTIVE      7706\n",
      "URGENT        1336\n",
      "Name: ADMISSION_TYPE, dtype: int64\n"
     ]
    }
   ],
   "source": [
    "print(dfADMISSIONS['ADMISSION_TYPE'].value_counts())"
   ]
  },
  {
   "cell_type": "markdown",
   "metadata": {},
   "source": [
    "dfADMISSIONS.ADMISSION_TYPE = dfADMISSIONS.ADMISSION_TYPE.replace('EMERGENCY', 1)\n",
    "dfADMISSIONS.ADMISSION_TYPE = dfADMISSIONS.ADMISSION_TYPE.replace('NEWBORN', 2)\n",
    "dfADMISSIONS.ADMISSION_TYPE = dfADMISSIONS.ADMISSION_TYPE.replace('ELECTIVE', 3)\n",
    "dfADMISSIONS.ADMISSION_TYPE = dfADMISSIONS.ADMISSION_TYPE.replace('URGENT', 4)"
   ]
  },
  {
   "cell_type": "code",
   "execution_count": 5,
   "metadata": {},
   "outputs": [
    {
     "name": "stdout",
     "output_type": "stream",
     "text": [
      "EMERGENCY ROOM ADMIT         22754\n",
      "PHYS REFERRAL/NORMAL DELI    15079\n",
      "CLINIC REFERRAL/PREMATURE    12032\n",
      "TRANSFER FROM HOSP/EXTRAM     8456\n",
      "TRANSFER FROM SKILLED NUR      273\n",
      "** INFO NOT AVAILABLE **       204\n",
      "HMO REFERRAL/SICK              102\n",
      "TRANSFER FROM OTHER HEALT       71\n",
      "TRSF WITHIN THIS FACILITY        5\n",
      "Name: ADMISSION_LOCATION, dtype: int64\n"
     ]
    }
   ],
   "source": [
    "print(dfADMISSIONS['ADMISSION_LOCATION'].value_counts())"
   ]
  },
  {
   "cell_type": "code",
   "execution_count": 6,
   "metadata": {},
   "outputs": [
    {
     "name": "stdout",
     "output_type": "stream",
     "text": [
      "HOME                         18962\n",
      "HOME HEALTH CARE             13963\n",
      "SNF                           7705\n",
      "REHAB/DISTINCT PART HOSP      6429\n",
      "DEAD/EXPIRED                  5854\n",
      "LONG TERM CARE HOSPITAL       2305\n",
      "SHORT TERM HOSPITAL           1534\n",
      "DISC-TRAN CANCER/CHLDRN H      669\n",
      "DISCH-TRAN TO PSYCH HOSP       446\n",
      "HOSPICE-HOME                   402\n",
      "LEFT AGAINST MEDICAL ADVI      365\n",
      "HOSPICE-MEDICAL FACILITY       153\n",
      "HOME WITH HOME IV PROVIDR       67\n",
      "OTHER FACILITY                  63\n",
      "ICF                             47\n",
      "DISC-TRAN TO FEDERAL HC         11\n",
      "SNF-MEDICAID ONLY CERTIF         1\n",
      "Name: DISCHARGE_LOCATION, dtype: int64\n"
     ]
    }
   ],
   "source": [
    "print(dfADMISSIONS['DISCHARGE_LOCATION'].value_counts())"
   ]
  },
  {
   "cell_type": "code",
   "execution_count": 7,
   "metadata": {},
   "outputs": [],
   "source": [
    "#Drop the columns that can help with any prediction leave the admit and discharge columns for now till EDA is complete\n",
    "colstodrop = ['ROW_ID' ,'INSURANCE','LANGUAGE','RELIGION','MARITAL_STATUS','ETHNICITY','EDREGTIME','EDOUTTIME','HAS_CHARTEVENTS_DATA','HOSPITAL_EXPIRE_FLAG']\n",
    "dfADMISSIONS.drop(colstodrop ,axis=1,inplace=True)"
   ]
  },
  {
   "cell_type": "code",
   "execution_count": 8,
   "metadata": {},
   "outputs": [
    {
     "data": {
      "text/html": [
       "<div>\n",
       "<style scoped>\n",
       "    .dataframe tbody tr th:only-of-type {\n",
       "        vertical-align: middle;\n",
       "    }\n",
       "\n",
       "    .dataframe tbody tr th {\n",
       "        vertical-align: top;\n",
       "    }\n",
       "\n",
       "    .dataframe thead th {\n",
       "        text-align: right;\n",
       "    }\n",
       "</style>\n",
       "<table border=\"1\" class=\"dataframe\">\n",
       "  <thead>\n",
       "    <tr style=\"text-align: right;\">\n",
       "      <th></th>\n",
       "      <th>SUBJECT_ID</th>\n",
       "      <th>HADM_ID</th>\n",
       "      <th>ADMITTIME</th>\n",
       "      <th>DISCHTIME</th>\n",
       "      <th>DEATHTIME</th>\n",
       "      <th>ADMISSION_TYPE</th>\n",
       "      <th>ADMISSION_LOCATION</th>\n",
       "      <th>DISCHARGE_LOCATION</th>\n",
       "      <th>DIAGNOSIS</th>\n",
       "    </tr>\n",
       "  </thead>\n",
       "  <tbody>\n",
       "    <tr>\n",
       "      <th>0</th>\n",
       "      <td>22</td>\n",
       "      <td>165315</td>\n",
       "      <td>2196-04-09 12:26:00</td>\n",
       "      <td>2196-04-10 15:54:00</td>\n",
       "      <td>NaN</td>\n",
       "      <td>EMERGENCY</td>\n",
       "      <td>EMERGENCY ROOM ADMIT</td>\n",
       "      <td>DISC-TRAN CANCER/CHLDRN H</td>\n",
       "      <td>BENZODIAZEPINE OVERDOSE</td>\n",
       "    </tr>\n",
       "    <tr>\n",
       "      <th>1</th>\n",
       "      <td>23</td>\n",
       "      <td>152223</td>\n",
       "      <td>2153-09-03 07:15:00</td>\n",
       "      <td>2153-09-08 19:10:00</td>\n",
       "      <td>NaN</td>\n",
       "      <td>ELECTIVE</td>\n",
       "      <td>PHYS REFERRAL/NORMAL DELI</td>\n",
       "      <td>HOME HEALTH CARE</td>\n",
       "      <td>CORONARY ARTERY DISEASE\\CORONARY ARTERY BYPASS...</td>\n",
       "    </tr>\n",
       "    <tr>\n",
       "      <th>2</th>\n",
       "      <td>23</td>\n",
       "      <td>124321</td>\n",
       "      <td>2157-10-18 19:34:00</td>\n",
       "      <td>2157-10-25 14:00:00</td>\n",
       "      <td>NaN</td>\n",
       "      <td>EMERGENCY</td>\n",
       "      <td>TRANSFER FROM HOSP/EXTRAM</td>\n",
       "      <td>HOME HEALTH CARE</td>\n",
       "      <td>BRAIN MASS</td>\n",
       "    </tr>\n",
       "    <tr>\n",
       "      <th>3</th>\n",
       "      <td>24</td>\n",
       "      <td>161859</td>\n",
       "      <td>2139-06-06 16:14:00</td>\n",
       "      <td>2139-06-09 12:48:00</td>\n",
       "      <td>NaN</td>\n",
       "      <td>EMERGENCY</td>\n",
       "      <td>TRANSFER FROM HOSP/EXTRAM</td>\n",
       "      <td>HOME</td>\n",
       "      <td>INTERIOR MYOCARDIAL INFARCTION</td>\n",
       "    </tr>\n",
       "    <tr>\n",
       "      <th>4</th>\n",
       "      <td>25</td>\n",
       "      <td>129635</td>\n",
       "      <td>2160-11-02 02:06:00</td>\n",
       "      <td>2160-11-05 14:55:00</td>\n",
       "      <td>NaN</td>\n",
       "      <td>EMERGENCY</td>\n",
       "      <td>EMERGENCY ROOM ADMIT</td>\n",
       "      <td>HOME</td>\n",
       "      <td>ACUTE CORONARY SYNDROME</td>\n",
       "    </tr>\n",
       "    <tr>\n",
       "      <th>...</th>\n",
       "      <td>...</td>\n",
       "      <td>...</td>\n",
       "      <td>...</td>\n",
       "      <td>...</td>\n",
       "      <td>...</td>\n",
       "      <td>...</td>\n",
       "      <td>...</td>\n",
       "      <td>...</td>\n",
       "      <td>...</td>\n",
       "    </tr>\n",
       "    <tr>\n",
       "      <th>58971</th>\n",
       "      <td>98800</td>\n",
       "      <td>191113</td>\n",
       "      <td>2131-03-30 21:13:00</td>\n",
       "      <td>2131-04-02 15:02:00</td>\n",
       "      <td>NaN</td>\n",
       "      <td>EMERGENCY</td>\n",
       "      <td>CLINIC REFERRAL/PREMATURE</td>\n",
       "      <td>HOME</td>\n",
       "      <td>TRAUMA</td>\n",
       "    </tr>\n",
       "    <tr>\n",
       "      <th>58972</th>\n",
       "      <td>98802</td>\n",
       "      <td>101071</td>\n",
       "      <td>2151-03-05 20:00:00</td>\n",
       "      <td>2151-03-06 09:10:00</td>\n",
       "      <td>2151-03-06 09:10:00</td>\n",
       "      <td>EMERGENCY</td>\n",
       "      <td>CLINIC REFERRAL/PREMATURE</td>\n",
       "      <td>DEAD/EXPIRED</td>\n",
       "      <td>SAH</td>\n",
       "    </tr>\n",
       "    <tr>\n",
       "      <th>58973</th>\n",
       "      <td>98805</td>\n",
       "      <td>122631</td>\n",
       "      <td>2200-09-12 07:15:00</td>\n",
       "      <td>2200-09-20 12:08:00</td>\n",
       "      <td>NaN</td>\n",
       "      <td>ELECTIVE</td>\n",
       "      <td>PHYS REFERRAL/NORMAL DELI</td>\n",
       "      <td>HOME HEALTH CARE</td>\n",
       "      <td>RENAL CANCER/SDA</td>\n",
       "    </tr>\n",
       "    <tr>\n",
       "      <th>58974</th>\n",
       "      <td>98813</td>\n",
       "      <td>170407</td>\n",
       "      <td>2128-11-11 02:29:00</td>\n",
       "      <td>2128-12-22 13:11:00</td>\n",
       "      <td>NaN</td>\n",
       "      <td>EMERGENCY</td>\n",
       "      <td>EMERGENCY ROOM ADMIT</td>\n",
       "      <td>SNF</td>\n",
       "      <td>S/P FALL</td>\n",
       "    </tr>\n",
       "    <tr>\n",
       "      <th>58975</th>\n",
       "      <td>98813</td>\n",
       "      <td>190264</td>\n",
       "      <td>2131-10-25 03:09:00</td>\n",
       "      <td>2131-10-26 17:44:00</td>\n",
       "      <td>NaN</td>\n",
       "      <td>EMERGENCY</td>\n",
       "      <td>CLINIC REFERRAL/PREMATURE</td>\n",
       "      <td>HOME</td>\n",
       "      <td>INTRACRANIAL HEMORRHAGE</td>\n",
       "    </tr>\n",
       "  </tbody>\n",
       "</table>\n",
       "<p>58976 rows × 9 columns</p>\n",
       "</div>"
      ],
      "text/plain": [
       "       SUBJECT_ID  HADM_ID           ADMITTIME           DISCHTIME  \\\n",
       "0              22   165315 2196-04-09 12:26:00 2196-04-10 15:54:00   \n",
       "1              23   152223 2153-09-03 07:15:00 2153-09-08 19:10:00   \n",
       "2              23   124321 2157-10-18 19:34:00 2157-10-25 14:00:00   \n",
       "3              24   161859 2139-06-06 16:14:00 2139-06-09 12:48:00   \n",
       "4              25   129635 2160-11-02 02:06:00 2160-11-05 14:55:00   \n",
       "...           ...      ...                 ...                 ...   \n",
       "58971       98800   191113 2131-03-30 21:13:00 2131-04-02 15:02:00   \n",
       "58972       98802   101071 2151-03-05 20:00:00 2151-03-06 09:10:00   \n",
       "58973       98805   122631 2200-09-12 07:15:00 2200-09-20 12:08:00   \n",
       "58974       98813   170407 2128-11-11 02:29:00 2128-12-22 13:11:00   \n",
       "58975       98813   190264 2131-10-25 03:09:00 2131-10-26 17:44:00   \n",
       "\n",
       "                 DEATHTIME ADMISSION_TYPE         ADMISSION_LOCATION  \\\n",
       "0                      NaN      EMERGENCY       EMERGENCY ROOM ADMIT   \n",
       "1                      NaN       ELECTIVE  PHYS REFERRAL/NORMAL DELI   \n",
       "2                      NaN      EMERGENCY  TRANSFER FROM HOSP/EXTRAM   \n",
       "3                      NaN      EMERGENCY  TRANSFER FROM HOSP/EXTRAM   \n",
       "4                      NaN      EMERGENCY       EMERGENCY ROOM ADMIT   \n",
       "...                    ...            ...                        ...   \n",
       "58971                  NaN      EMERGENCY  CLINIC REFERRAL/PREMATURE   \n",
       "58972  2151-03-06 09:10:00      EMERGENCY  CLINIC REFERRAL/PREMATURE   \n",
       "58973                  NaN       ELECTIVE  PHYS REFERRAL/NORMAL DELI   \n",
       "58974                  NaN      EMERGENCY       EMERGENCY ROOM ADMIT   \n",
       "58975                  NaN      EMERGENCY  CLINIC REFERRAL/PREMATURE   \n",
       "\n",
       "              DISCHARGE_LOCATION  \\\n",
       "0      DISC-TRAN CANCER/CHLDRN H   \n",
       "1               HOME HEALTH CARE   \n",
       "2               HOME HEALTH CARE   \n",
       "3                           HOME   \n",
       "4                           HOME   \n",
       "...                          ...   \n",
       "58971                       HOME   \n",
       "58972               DEAD/EXPIRED   \n",
       "58973           HOME HEALTH CARE   \n",
       "58974                        SNF   \n",
       "58975                       HOME   \n",
       "\n",
       "                                               DIAGNOSIS  \n",
       "0                                BENZODIAZEPINE OVERDOSE  \n",
       "1      CORONARY ARTERY DISEASE\\CORONARY ARTERY BYPASS...  \n",
       "2                                             BRAIN MASS  \n",
       "3                         INTERIOR MYOCARDIAL INFARCTION  \n",
       "4                                ACUTE CORONARY SYNDROME  \n",
       "...                                                  ...  \n",
       "58971                                             TRAUMA  \n",
       "58972                                                SAH  \n",
       "58973                                   RENAL CANCER/SDA  \n",
       "58974                                           S/P FALL  \n",
       "58975                            INTRACRANIAL HEMORRHAGE  \n",
       "\n",
       "[58976 rows x 9 columns]"
      ]
     },
     "execution_count": 8,
     "metadata": {},
     "output_type": "execute_result"
    }
   ],
   "source": [
    "dfADMISSIONS = dfADMISSIONS.drop_duplicates(['HADM_ID'],keep= 'last')\n",
    "dfADMISSIONS"
   ]
  },
  {
   "cell_type": "markdown",
   "metadata": {},
   "source": [
    "Each row of this table contains a unique HADM_ID, which represents a single patient’s admission to the hospital. HADM_ID ranges from 1000000 - 1999999. It is possible for this table to have duplicate SUBJECT_ID,"
   ]
  },
  {
   "cell_type": "code",
   "execution_count": 9,
   "metadata": {},
   "outputs": [],
   "source": [
    "#dfADMISSIONS.shape"
   ]
  },
  {
   "cell_type": "markdown",
   "metadata": {},
   "source": [
    "# We have 58976 admissions"
   ]
  },
  {
   "cell_type": "code",
   "execution_count": 10,
   "metadata": {},
   "outputs": [
    {
     "name": "stdout",
     "output_type": "stream",
     "text": [
      "['BENZODIAZEPINE OVERDOSE'\n",
      " 'CORONARY ARTERY DISEASE\\\\CORONARY ARTERY BYPASS GRAFT/SDA' 'BRAIN MASS'\n",
      " ... 'R/O METASTASIS'\n",
      " 'GASTROPARESIS\\\\PLACEMENT OF G-TUBE **REMOTE WEST**/SDA' 'JOINT EFFUSION']\n"
     ]
    }
   ],
   "source": [
    "print(dfADMISSIONS['DIAGNOSIS'].unique())"
   ]
  },
  {
   "cell_type": "code",
   "execution_count": 11,
   "metadata": {},
   "outputs": [
    {
     "name": "stdout",
     "output_type": "stream",
     "text": [
      "NEWBORN                                                             7823\n",
      "PNEUMONIA                                                           1566\n",
      "SEPSIS                                                              1184\n",
      "CONGESTIVE HEART FAILURE                                             928\n",
      "CORONARY ARTERY DISEASE                                              840\n",
      "                                                                    ... \n",
      "RIGHT LOWER LOBE PNEUMONIA                                             1\n",
      "MR\\MITRAL VALVE REPAIR REPLACEMENT/SDA                                 1\n",
      "ATRIAL TACHYCARDIA/ MECHANICAL VALVE\\ATRIAL TACHYCARDIA ABLATION       1\n",
      "RIGHT FEMERAL FRACTURE                                                 1\n",
      "S/P STRUCK BY CAR                                                      1\n",
      "Name: DIAGNOSIS, Length: 15691, dtype: int64\n"
     ]
    }
   ],
   "source": [
    "print(dfADMISSIONS['DIAGNOSIS'].value_counts().sort_values(ascending=False))"
   ]
  },
  {
   "cell_type": "code",
   "execution_count": 12,
   "metadata": {},
   "outputs": [
    {
     "data": {
      "text/html": [
       "<div>\n",
       "<style scoped>\n",
       "    .dataframe tbody tr th:only-of-type {\n",
       "        vertical-align: middle;\n",
       "    }\n",
       "\n",
       "    .dataframe tbody tr th {\n",
       "        vertical-align: top;\n",
       "    }\n",
       "\n",
       "    .dataframe thead th {\n",
       "        text-align: right;\n",
       "    }\n",
       "</style>\n",
       "<table border=\"1\" class=\"dataframe\">\n",
       "  <thead>\n",
       "    <tr style=\"text-align: right;\">\n",
       "      <th></th>\n",
       "      <th>SUBJECT_ID</th>\n",
       "      <th>HADM_ID</th>\n",
       "      <th>ADMITTIME</th>\n",
       "      <th>DISCHTIME</th>\n",
       "      <th>DEATHTIME</th>\n",
       "      <th>ADMISSION_TYPE</th>\n",
       "      <th>ADMISSION_LOCATION</th>\n",
       "      <th>DISCHARGE_LOCATION</th>\n",
       "      <th>DIAGNOSIS</th>\n",
       "    </tr>\n",
       "  </thead>\n",
       "  <tbody>\n",
       "    <tr>\n",
       "      <th>0</th>\n",
       "      <td>22</td>\n",
       "      <td>165315</td>\n",
       "      <td>2196-04-09 12:26:00</td>\n",
       "      <td>2196-04-10 15:54:00</td>\n",
       "      <td>NaN</td>\n",
       "      <td>EMERGENCY</td>\n",
       "      <td>EMERGENCY ROOM ADMIT</td>\n",
       "      <td>DISC-TRAN CANCER/CHLDRN H</td>\n",
       "      <td>BENZODIAZEPINE OVERDOSE</td>\n",
       "    </tr>\n",
       "    <tr>\n",
       "      <th>1</th>\n",
       "      <td>23</td>\n",
       "      <td>152223</td>\n",
       "      <td>2153-09-03 07:15:00</td>\n",
       "      <td>2153-09-08 19:10:00</td>\n",
       "      <td>NaN</td>\n",
       "      <td>ELECTIVE</td>\n",
       "      <td>PHYS REFERRAL/NORMAL DELI</td>\n",
       "      <td>HOME HEALTH CARE</td>\n",
       "      <td>CORONARY ARTERY DISEASE\\CORONARY ARTERY BYPASS...</td>\n",
       "    </tr>\n",
       "    <tr>\n",
       "      <th>2</th>\n",
       "      <td>23</td>\n",
       "      <td>124321</td>\n",
       "      <td>2157-10-18 19:34:00</td>\n",
       "      <td>2157-10-25 14:00:00</td>\n",
       "      <td>NaN</td>\n",
       "      <td>EMERGENCY</td>\n",
       "      <td>TRANSFER FROM HOSP/EXTRAM</td>\n",
       "      <td>HOME HEALTH CARE</td>\n",
       "      <td>BRAIN MASS</td>\n",
       "    </tr>\n",
       "    <tr>\n",
       "      <th>3</th>\n",
       "      <td>24</td>\n",
       "      <td>161859</td>\n",
       "      <td>2139-06-06 16:14:00</td>\n",
       "      <td>2139-06-09 12:48:00</td>\n",
       "      <td>NaN</td>\n",
       "      <td>EMERGENCY</td>\n",
       "      <td>TRANSFER FROM HOSP/EXTRAM</td>\n",
       "      <td>HOME</td>\n",
       "      <td>INTERIOR MYOCARDIAL INFARCTION</td>\n",
       "    </tr>\n",
       "    <tr>\n",
       "      <th>4</th>\n",
       "      <td>25</td>\n",
       "      <td>129635</td>\n",
       "      <td>2160-11-02 02:06:00</td>\n",
       "      <td>2160-11-05 14:55:00</td>\n",
       "      <td>NaN</td>\n",
       "      <td>EMERGENCY</td>\n",
       "      <td>EMERGENCY ROOM ADMIT</td>\n",
       "      <td>HOME</td>\n",
       "      <td>ACUTE CORONARY SYNDROME</td>\n",
       "    </tr>\n",
       "  </tbody>\n",
       "</table>\n",
       "</div>"
      ],
      "text/plain": [
       "   SUBJECT_ID  HADM_ID           ADMITTIME           DISCHTIME DEATHTIME  \\\n",
       "0          22   165315 2196-04-09 12:26:00 2196-04-10 15:54:00       NaN   \n",
       "1          23   152223 2153-09-03 07:15:00 2153-09-08 19:10:00       NaN   \n",
       "2          23   124321 2157-10-18 19:34:00 2157-10-25 14:00:00       NaN   \n",
       "3          24   161859 2139-06-06 16:14:00 2139-06-09 12:48:00       NaN   \n",
       "4          25   129635 2160-11-02 02:06:00 2160-11-05 14:55:00       NaN   \n",
       "\n",
       "  ADMISSION_TYPE         ADMISSION_LOCATION         DISCHARGE_LOCATION  \\\n",
       "0      EMERGENCY       EMERGENCY ROOM ADMIT  DISC-TRAN CANCER/CHLDRN H   \n",
       "1       ELECTIVE  PHYS REFERRAL/NORMAL DELI           HOME HEALTH CARE   \n",
       "2      EMERGENCY  TRANSFER FROM HOSP/EXTRAM           HOME HEALTH CARE   \n",
       "3      EMERGENCY  TRANSFER FROM HOSP/EXTRAM                       HOME   \n",
       "4      EMERGENCY       EMERGENCY ROOM ADMIT                       HOME   \n",
       "\n",
       "                                           DIAGNOSIS  \n",
       "0                            BENZODIAZEPINE OVERDOSE  \n",
       "1  CORONARY ARTERY DISEASE\\CORONARY ARTERY BYPASS...  \n",
       "2                                         BRAIN MASS  \n",
       "3                     INTERIOR MYOCARDIAL INFARCTION  \n",
       "4                            ACUTE CORONARY SYNDROME  "
      ]
     },
     "execution_count": 12,
     "metadata": {},
     "output_type": "execute_result"
    }
   ],
   "source": [
    "dfADMISSIONS.head()"
   ]
  },
  {
   "cell_type": "markdown",
   "metadata": {},
   "source": [
    "#body.groupby(['make','body-style']).size().reset_index(name='count')\n",
    "#dfADMISSIONS ['DIAGNOSIS'].value_counts()\n",
    "diagCount = (dfADMISSIONS.groupby(['DIAGNOSIS']).count() > 500)\n",
    "#print(dfADMISSIONS['DIAGNOSIS'].value_counts() > 400)\n",
    "diagCount=diagCount.reset_index()\n",
    "diagCount\n",
    "#dfADMISSIONS['CountofDiag'] = dfADMISSIONS['DIAGNOSIS'].  + +1"
   ]
  },
  {
   "cell_type": "code",
   "execution_count": 13,
   "metadata": {},
   "outputs": [
    {
     "data": {
      "image/png": "[encoded data removed]",
      "text/plain": [
       "<Figure size 1080x576 with 1 Axes>"
      ]
     },
     "metadata": {
      "needs_background": "light"
     },
     "output_type": "display_data"
    }
   ],
   "source": [
    "# Create a graph for Admission Type\n",
    "dfADMISSIONS['ADMISSION_TYPE'].value_counts().plot(kind='bar',figsize=(15,8))\n",
    "plt.title('Admission Type')\n",
    "plt.ylabel('Number of Admissions')\n",
    "plt.xlabel('Admissions')\n",
    "plt.show()"
   ]
  },
  {
   "cell_type": "code",
   "execution_count": 14,
   "metadata": {},
   "outputs": [
    {
     "data": {
      "image/png": "[encoded data removed]",
      "text/plain": [
       "<Figure size 1080x576 with 1 Axes>"
      ]
     },
     "metadata": {
      "needs_background": "light"
     },
     "output_type": "display_data"
    }
   ],
   "source": [
    "#Create a graph for Discharge Locations\n",
    "dfADMISSIONS['DISCHARGE_LOCATION'].value_counts().plot(kind='bar',figsize=(15,8))\n",
    "plt.title('Discharge Locations')\n",
    "plt.ylabel('Number of Discharges')\n",
    "plt.xlabel('Discharges')\n",
    "plt.show()"
   ]
  },
  {
   "cell_type": "markdown",
   "metadata": {},
   "source": [
    "dfdiagCount  = pd.DataFrame(diagCount)\n",
    "dfdiagCount = dfADMISSIONS['DIAGNOSIS'].value_counts().plot(kind='hist',figsize=(15,8))\n",
    "plt.title('Discharge Locations')\n",
    "plt.ylabel('Number of Discharges')\n",
    "plt.xlabel('Discharges')\n",
    "plt.show()"
   ]
  },
  {
   "cell_type": "code",
   "execution_count": 15,
   "metadata": {},
   "outputs": [
    {
     "data": {
      "text/plain": [
       "NEWBORN                                                            7823\n",
       "PNEUMONIA                                                          1566\n",
       "SEPSIS                                                             1184\n",
       "CONGESTIVE HEART FAILURE                                            928\n",
       "CORONARY ARTERY DISEASE                                             840\n",
       "                                                                   ... \n",
       "SEPSIS;THROMBOCYTOPENIA;MENTAL STATUS CHANGES                         1\n",
       "SUBARACHNOID HEMORRHAGE;PEDESTRIAN STRUCK                             1\n",
       "AROTIC STENOSIS\\AORTIC VALVE / ASCENDING AORTA REPLACEMENT /SDA       1\n",
       "WOUND INFECTION R/O SEPSIS                                            1\n",
       "DIAPHRAGMATIC INJURY                                                  1\n",
       "Name: DIAGNOSIS, Length: 15691, dtype: int64"
      ]
     },
     "execution_count": 15,
     "metadata": {},
     "output_type": "execute_result"
    }
   ],
   "source": [
    "dfADMISSIONS['DIAGNOSIS'].value_counts()"
   ]
  },
  {
   "cell_type": "code",
   "execution_count": 16,
   "metadata": {},
   "outputs": [
    {
     "name": "stdout",
     "output_type": "stream",
     "text": [
      "['NEWBORN', 'PNEUMONIA', 'SEPSIS', 'CONGESTIVE HEART FAILURE', 'CORONARY ARTERY DISEASE', 'CHEST PAIN', 'INTRACRANIAL HEMORRHAGE', 'ALTERED MENTAL STATUS', 'GASTROINTESTINAL BLEED', 'CORONARY ARTERY DISEASE\\\\CORONARY ARTERY BYPASS GRAFT /SDA']\n"
     ]
    }
   ],
   "source": [
    "#Create a list for top 10 Diagnosis in the frame. Plotting for 15691 distinct diagnosis is not possible. \n",
    "n=10\n",
    "diagCount = dfADMISSIONS['DIAGNOSIS'].value_counts()[:n].index.tolist()\n",
    "print(diagCount)"
   ]
  },
  {
   "cell_type": "code",
   "execution_count": 17,
   "metadata": {},
   "outputs": [
    {
     "data": {
      "text/html": [
       "<div>\n",
       "<style scoped>\n",
       "    .dataframe tbody tr th:only-of-type {\n",
       "        vertical-align: middle;\n",
       "    }\n",
       "\n",
       "    .dataframe tbody tr th {\n",
       "        vertical-align: top;\n",
       "    }\n",
       "\n",
       "    .dataframe thead th {\n",
       "        text-align: right;\n",
       "    }\n",
       "</style>\n",
       "<table border=\"1\" class=\"dataframe\">\n",
       "  <thead>\n",
       "    <tr style=\"text-align: right;\">\n",
       "      <th></th>\n",
       "      <th>SUBJECT_ID</th>\n",
       "      <th>HADM_ID</th>\n",
       "      <th>ADMITTIME</th>\n",
       "      <th>DISCHTIME</th>\n",
       "      <th>DEATHTIME</th>\n",
       "      <th>ADMISSION_TYPE</th>\n",
       "      <th>ADMISSION_LOCATION</th>\n",
       "      <th>DISCHARGE_LOCATION</th>\n",
       "      <th>DIAGNOSIS</th>\n",
       "    </tr>\n",
       "  </thead>\n",
       "  <tbody>\n",
       "    <tr>\n",
       "      <th>6</th>\n",
       "      <td>27</td>\n",
       "      <td>134931</td>\n",
       "      <td>2191-11-30 22:16:00</td>\n",
       "      <td>2191-12-03 14:45:00</td>\n",
       "      <td>NaN</td>\n",
       "      <td>NEWBORN</td>\n",
       "      <td>PHYS REFERRAL/NORMAL DELI</td>\n",
       "      <td>HOME</td>\n",
       "      <td>NEWBORN</td>\n",
       "    </tr>\n",
       "    <tr>\n",
       "      <th>15</th>\n",
       "      <td>36</td>\n",
       "      <td>182104</td>\n",
       "      <td>2131-04-30 07:15:00</td>\n",
       "      <td>2131-05-08 14:00:00</td>\n",
       "      <td>NaN</td>\n",
       "      <td>EMERGENCY</td>\n",
       "      <td>CLINIC REFERRAL/PREMATURE</td>\n",
       "      <td>HOME HEALTH CARE</td>\n",
       "      <td>CORONARY ARTERY DISEASE\\CORONARY ARTERY BYPASS...</td>\n",
       "    </tr>\n",
       "    <tr>\n",
       "      <th>18</th>\n",
       "      <td>37</td>\n",
       "      <td>188670</td>\n",
       "      <td>2183-08-21 16:48:00</td>\n",
       "      <td>2183-08-26 18:54:00</td>\n",
       "      <td>NaN</td>\n",
       "      <td>EMERGENCY</td>\n",
       "      <td>EMERGENCY ROOM ADMIT</td>\n",
       "      <td>HOME HEALTH CARE</td>\n",
       "      <td>CONGESTIVE HEART FAILURE</td>\n",
       "    </tr>\n",
       "    <tr>\n",
       "      <th>20</th>\n",
       "      <td>39</td>\n",
       "      <td>106266</td>\n",
       "      <td>2114-11-29 21:04:00</td>\n",
       "      <td>2114-12-09 15:10:00</td>\n",
       "      <td>NaN</td>\n",
       "      <td>NEWBORN</td>\n",
       "      <td>PHYS REFERRAL/NORMAL DELI</td>\n",
       "      <td>HOME</td>\n",
       "      <td>NEWBORN</td>\n",
       "    </tr>\n",
       "    <tr>\n",
       "      <th>22</th>\n",
       "      <td>357</td>\n",
       "      <td>174486</td>\n",
       "      <td>2197-12-06 07:13:00</td>\n",
       "      <td>2198-01-03 14:00:00</td>\n",
       "      <td>NaN</td>\n",
       "      <td>EMERGENCY</td>\n",
       "      <td>EMERGENCY ROOM ADMIT</td>\n",
       "      <td>REHAB/DISTINCT PART HOSP</td>\n",
       "      <td>GASTROINTESTINAL BLEED</td>\n",
       "    </tr>\n",
       "    <tr>\n",
       "      <th>24</th>\n",
       "      <td>357</td>\n",
       "      <td>122609</td>\n",
       "      <td>2198-11-01 22:36:00</td>\n",
       "      <td>2198-11-14 14:20:00</td>\n",
       "      <td>NaN</td>\n",
       "      <td>EMERGENCY</td>\n",
       "      <td>EMERGENCY ROOM ADMIT</td>\n",
       "      <td>REHAB/DISTINCT PART HOSP</td>\n",
       "      <td>SEPSIS</td>\n",
       "    </tr>\n",
       "    <tr>\n",
       "      <th>25</th>\n",
       "      <td>357</td>\n",
       "      <td>101651</td>\n",
       "      <td>2199-10-20 12:05:00</td>\n",
       "      <td>2199-10-23 17:30:00</td>\n",
       "      <td>NaN</td>\n",
       "      <td>EMERGENCY</td>\n",
       "      <td>EMERGENCY ROOM ADMIT</td>\n",
       "      <td>SNF</td>\n",
       "      <td>PNEUMONIA</td>\n",
       "    </tr>\n",
       "    <tr>\n",
       "      <th>26</th>\n",
       "      <td>357</td>\n",
       "      <td>117876</td>\n",
       "      <td>2199-12-21 22:37:00</td>\n",
       "      <td>2200-01-18 11:45:00</td>\n",
       "      <td>NaN</td>\n",
       "      <td>EMERGENCY</td>\n",
       "      <td>EMERGENCY ROOM ADMIT</td>\n",
       "      <td>SNF</td>\n",
       "      <td>ALTERED MENTAL STATUS</td>\n",
       "    </tr>\n",
       "    <tr>\n",
       "      <th>27</th>\n",
       "      <td>358</td>\n",
       "      <td>110872</td>\n",
       "      <td>2168-10-24 23:48:00</td>\n",
       "      <td>2168-10-29 03:23:00</td>\n",
       "      <td>NaN</td>\n",
       "      <td>NEWBORN</td>\n",
       "      <td>PHYS REFERRAL/NORMAL DELI</td>\n",
       "      <td>HOME</td>\n",
       "      <td>NEWBORN</td>\n",
       "    </tr>\n",
       "    <tr>\n",
       "      <th>34</th>\n",
       "      <td>363</td>\n",
       "      <td>196503</td>\n",
       "      <td>2176-03-01 15:26:00</td>\n",
       "      <td>2176-03-03 14:04:00</td>\n",
       "      <td>NaN</td>\n",
       "      <td>NEWBORN</td>\n",
       "      <td>CLINIC REFERRAL/PREMATURE</td>\n",
       "      <td>HOME</td>\n",
       "      <td>NEWBORN</td>\n",
       "    </tr>\n",
       "  </tbody>\n",
       "</table>\n",
       "</div>"
      ],
      "text/plain": [
       "    SUBJECT_ID  HADM_ID           ADMITTIME           DISCHTIME DEATHTIME  \\\n",
       "6           27   134931 2191-11-30 22:16:00 2191-12-03 14:45:00       NaN   \n",
       "15          36   182104 2131-04-30 07:15:00 2131-05-08 14:00:00       NaN   \n",
       "18          37   188670 2183-08-21 16:48:00 2183-08-26 18:54:00       NaN   \n",
       "20          39   106266 2114-11-29 21:04:00 2114-12-09 15:10:00       NaN   \n",
       "22         357   174486 2197-12-06 07:13:00 2198-01-03 14:00:00       NaN   \n",
       "24         357   122609 2198-11-01 22:36:00 2198-11-14 14:20:00       NaN   \n",
       "25         357   101651 2199-10-20 12:05:00 2199-10-23 17:30:00       NaN   \n",
       "26         357   117876 2199-12-21 22:37:00 2200-01-18 11:45:00       NaN   \n",
       "27         358   110872 2168-10-24 23:48:00 2168-10-29 03:23:00       NaN   \n",
       "34         363   196503 2176-03-01 15:26:00 2176-03-03 14:04:00       NaN   \n",
       "\n",
       "   ADMISSION_TYPE         ADMISSION_LOCATION        DISCHARGE_LOCATION  \\\n",
       "6         NEWBORN  PHYS REFERRAL/NORMAL DELI                      HOME   \n",
       "15      EMERGENCY  CLINIC REFERRAL/PREMATURE          HOME HEALTH CARE   \n",
       "18      EMERGENCY       EMERGENCY ROOM ADMIT          HOME HEALTH CARE   \n",
       "20        NEWBORN  PHYS REFERRAL/NORMAL DELI                      HOME   \n",
       "22      EMERGENCY       EMERGENCY ROOM ADMIT  REHAB/DISTINCT PART HOSP   \n",
       "24      EMERGENCY       EMERGENCY ROOM ADMIT  REHAB/DISTINCT PART HOSP   \n",
       "25      EMERGENCY       EMERGENCY ROOM ADMIT                       SNF   \n",
       "26      EMERGENCY       EMERGENCY ROOM ADMIT                       SNF   \n",
       "27        NEWBORN  PHYS REFERRAL/NORMAL DELI                      HOME   \n",
       "34        NEWBORN  CLINIC REFERRAL/PREMATURE                      HOME   \n",
       "\n",
       "                                            DIAGNOSIS  \n",
       "6                                             NEWBORN  \n",
       "15  CORONARY ARTERY DISEASE\\CORONARY ARTERY BYPASS...  \n",
       "18                           CONGESTIVE HEART FAILURE  \n",
       "20                                            NEWBORN  \n",
       "22                             GASTROINTESTINAL BLEED  \n",
       "24                                             SEPSIS  \n",
       "25                                          PNEUMONIA  \n",
       "26                              ALTERED MENTAL STATUS  \n",
       "27                                            NEWBORN  \n",
       "34                                            NEWBORN  "
      ]
     },
     "execution_count": 17,
     "metadata": {},
     "output_type": "execute_result"
    }
   ],
   "source": [
    "#Create a new dataframe for only top 10 diagnosis \n",
    "dfplot = dfADMISSIONS[dfADMISSIONS['DIAGNOSIS'].isin(diagCount)]\n",
    "dfplot.head(10)"
   ]
  },
  {
   "cell_type": "code",
   "execution_count": 18,
   "metadata": {},
   "outputs": [
    {
     "data": {
      "image/png": "[encoded data removed]",
      "text/plain": [
       "<Figure size 1080x576 with 1 Axes>"
      ]
     },
     "metadata": {
      "needs_background": "light"
     },
     "output_type": "display_data"
    }
   ],
   "source": [
    "#Now use the smaller dataframe to draw the graph. \n",
    "dfplot['DIAGNOSIS'].value_counts().plot(kind='bar',figsize=(15,8))\n",
    "plt.title('Top 10 Diags')\n",
    "plt.ylabel('Number of Admissions')\n",
    "plt.xlabel('Diagnosis')\n",
    "plt.show()"
   ]
  },
  {
   "cell_type": "code",
   "execution_count": 19,
   "metadata": {},
   "outputs": [
    {
     "data": {
      "text/plain": [
       "(array([0, 1, 2, 3, 4, 5, 6, 7, 8, 9]),\n",
       " [Text(0, 0, 'NEWBORN'),\n",
       "  Text(1, 0, 'PNEUMONIA'),\n",
       "  Text(2, 0, 'SEPSIS'),\n",
       "  Text(3, 0, 'CONGESTIVE HEART FAILURE'),\n",
       "  Text(4, 0, 'CORONARY ARTERY DISEASE'),\n",
       "  Text(5, 0, 'CHEST PAIN'),\n",
       "  Text(6, 0, 'INTRACRANIAL HEMORRHAGE'),\n",
       "  Text(7, 0, 'ALTERED MENTAL STATUS'),\n",
       "  Text(8, 0, 'GASTROINTESTINAL BLEED'),\n",
       "  Text(9, 0, 'CORONARY ARTERY DISEASE\\\\CORONARY ARTERY BYPASS GRAFT /SDA')])"
      ]
     },
     "execution_count": 19,
     "metadata": {},
     "output_type": "execute_result"
    },
    {
     "data": {
      "image/png": "[encoded data removed]",
      "text/plain": [
       "<Figure size 432x288 with 1 Axes>"
      ]
     },
     "metadata": {
      "needs_background": "light"
     },
     "output_type": "display_data"
    }
   ],
   "source": [
    "sns.barplot(x=dfplot.DIAGNOSIS.value_counts().index, y=dfplot.DIAGNOSIS.value_counts())\n",
    "plt.xticks(rotation=90)"
   ]
  },
  {
   "cell_type": "code",
   "execution_count": 20,
   "metadata": {},
   "outputs": [],
   "source": [
    "#replace Admission Types with number for the model\n",
    "dfADMISSIONS.ADMISSION_TYPE = dfADMISSIONS.ADMISSION_TYPE.replace('EMERGENCY', 1)\n",
    "dfADMISSIONS.ADMISSION_TYPE = dfADMISSIONS.ADMISSION_TYPE.replace('NEWBORN', 2)\n",
    "dfADMISSIONS.ADMISSION_TYPE = dfADMISSIONS.ADMISSION_TYPE.replace('ELECTIVE', 3)\n",
    "dfADMISSIONS.ADMISSION_TYPE = dfADMISSIONS.ADMISSION_TYPE.replace('URGENT', 4)"
   ]
  },
  {
   "cell_type": "code",
   "execution_count": 21,
   "metadata": {},
   "outputs": [
    {
     "data": {
      "image/png": "[encoded data removed]",
      "text/plain": [
       "<Figure size 432x288 with 1 Axes>"
      ]
     },
     "metadata": {
      "needs_background": "light"
     },
     "output_type": "display_data"
    }
   ],
   "source": [
    "dfADMISSIONS = dfADMISSIONS.dropna(subset=['ADMISSION_TYPE','ADMISSION_LOCATION'])\n",
    "sns.violinplot(x='ADMISSION_TYPE', y='ADMISSION_LOCATION', data=dfADMISSIONS, inner=None)\n",
    "plt.show()"
   ]
  },
  {
   "cell_type": "code",
   "execution_count": 22,
   "metadata": {},
   "outputs": [],
   "source": [
    "#find subjects admitted more than once\n",
    "#dfAdmitmoretimes = dfADMISSIONS.drop_duplicates(['SUBJECT_ID'],keep= 'last')"
   ]
  },
  {
   "cell_type": "code",
   "execution_count": 23,
   "metadata": {},
   "outputs": [],
   "source": [
    "#dfAdmitmoretimes.info()"
   ]
  },
  {
   "cell_type": "markdown",
   "metadata": {},
   "source": [
    "Now bring in the patient file, analyze and clean up"
   ]
  },
  {
   "cell_type": "code",
   "execution_count": 24,
   "metadata": {},
   "outputs": [
    {
     "name": "stdout",
     "output_type": "stream",
     "text": [
      "<class 'pandas.core.frame.DataFrame'>\n",
      "RangeIndex: 46520 entries, 0 to 46519\n",
      "Data columns (total 8 columns):\n",
      " #   Column       Non-Null Count  Dtype \n",
      "---  ------       --------------  ----- \n",
      " 0   ROW_ID       46520 non-null  int64 \n",
      " 1   SUBJECT_ID   46520 non-null  int64 \n",
      " 2   GENDER       46520 non-null  object\n",
      " 3   DOB          46520 non-null  object\n",
      " 4   DOD          15759 non-null  object\n",
      " 5   DOD_HOSP     9974 non-null   object\n",
      " 6   DOD_SSN      13378 non-null  object\n",
      " 7   EXPIRE_FLAG  46520 non-null  int64 \n",
      "dtypes: int64(3), object(5)\n",
      "memory usage: 2.8+ MB\n"
     ]
    }
   ],
   "source": [
    "dfPATIENTS = pd.read_csv(r'C:\\Users\\mkhan74\\Documents\\MIMICiiiDup\\PATIENTS.csv')\n",
    "dfPATIENTS.info()"
   ]
  },
  {
   "cell_type": "code",
   "execution_count": 25,
   "metadata": {},
   "outputs": [
    {
     "data": {
      "text/html": [
       "<div>\n",
       "<style scoped>\n",
       "    .dataframe tbody tr th:only-of-type {\n",
       "        vertical-align: middle;\n",
       "    }\n",
       "\n",
       "    .dataframe tbody tr th {\n",
       "        vertical-align: top;\n",
       "    }\n",
       "\n",
       "    .dataframe thead th {\n",
       "        text-align: right;\n",
       "    }\n",
       "</style>\n",
       "<table border=\"1\" class=\"dataframe\">\n",
       "  <thead>\n",
       "    <tr style=\"text-align: right;\">\n",
       "      <th></th>\n",
       "      <th>ROW_ID</th>\n",
       "      <th>SUBJECT_ID</th>\n",
       "      <th>GENDER</th>\n",
       "      <th>DOB</th>\n",
       "      <th>DOD</th>\n",
       "      <th>DOD_HOSP</th>\n",
       "      <th>DOD_SSN</th>\n",
       "      <th>EXPIRE_FLAG</th>\n",
       "    </tr>\n",
       "  </thead>\n",
       "  <tbody>\n",
       "    <tr>\n",
       "      <th>0</th>\n",
       "      <td>234</td>\n",
       "      <td>249</td>\n",
       "      <td>F</td>\n",
       "      <td>2075-03-13 00:00:00</td>\n",
       "      <td>NaN</td>\n",
       "      <td>NaN</td>\n",
       "      <td>NaN</td>\n",
       "      <td>0</td>\n",
       "    </tr>\n",
       "    <tr>\n",
       "      <th>1</th>\n",
       "      <td>235</td>\n",
       "      <td>250</td>\n",
       "      <td>F</td>\n",
       "      <td>2164-12-27 00:00:00</td>\n",
       "      <td>2188-11-22 00:00:00</td>\n",
       "      <td>2188-11-22 00:00:00</td>\n",
       "      <td>NaN</td>\n",
       "      <td>1</td>\n",
       "    </tr>\n",
       "    <tr>\n",
       "      <th>2</th>\n",
       "      <td>236</td>\n",
       "      <td>251</td>\n",
       "      <td>M</td>\n",
       "      <td>2090-03-15 00:00:00</td>\n",
       "      <td>NaN</td>\n",
       "      <td>NaN</td>\n",
       "      <td>NaN</td>\n",
       "      <td>0</td>\n",
       "    </tr>\n",
       "    <tr>\n",
       "      <th>3</th>\n",
       "      <td>237</td>\n",
       "      <td>252</td>\n",
       "      <td>M</td>\n",
       "      <td>2078-03-06 00:00:00</td>\n",
       "      <td>NaN</td>\n",
       "      <td>NaN</td>\n",
       "      <td>NaN</td>\n",
       "      <td>0</td>\n",
       "    </tr>\n",
       "    <tr>\n",
       "      <th>4</th>\n",
       "      <td>238</td>\n",
       "      <td>253</td>\n",
       "      <td>F</td>\n",
       "      <td>2089-11-26 00:00:00</td>\n",
       "      <td>NaN</td>\n",
       "      <td>NaN</td>\n",
       "      <td>NaN</td>\n",
       "      <td>0</td>\n",
       "    </tr>\n",
       "  </tbody>\n",
       "</table>\n",
       "</div>"
      ],
      "text/plain": [
       "   ROW_ID  SUBJECT_ID GENDER                  DOB                  DOD  \\\n",
       "0     234         249      F  2075-03-13 00:00:00                  NaN   \n",
       "1     235         250      F  2164-12-27 00:00:00  2188-11-22 00:00:00   \n",
       "2     236         251      M  2090-03-15 00:00:00                  NaN   \n",
       "3     237         252      M  2078-03-06 00:00:00                  NaN   \n",
       "4     238         253      F  2089-11-26 00:00:00                  NaN   \n",
       "\n",
       "              DOD_HOSP DOD_SSN  EXPIRE_FLAG  \n",
       "0                  NaN     NaN            0  \n",
       "1  2188-11-22 00:00:00     NaN            1  \n",
       "2                  NaN     NaN            0  \n",
       "3                  NaN     NaN            0  \n",
       "4                  NaN     NaN            0  "
      ]
     },
     "execution_count": 25,
     "metadata": {},
     "output_type": "execute_result"
    }
   ],
   "source": [
    "dfPATIENTS.head(5)"
   ]
  },
  {
   "cell_type": "code",
   "execution_count": 26,
   "metadata": {},
   "outputs": [
    {
     "data": {
      "text/html": [
       "<div>\n",
       "<style scoped>\n",
       "    .dataframe tbody tr th:only-of-type {\n",
       "        vertical-align: middle;\n",
       "    }\n",
       "\n",
       "    .dataframe tbody tr th {\n",
       "        vertical-align: top;\n",
       "    }\n",
       "\n",
       "    .dataframe thead th {\n",
       "        text-align: right;\n",
       "    }\n",
       "</style>\n",
       "<table border=\"1\" class=\"dataframe\">\n",
       "  <thead>\n",
       "    <tr style=\"text-align: right;\">\n",
       "      <th></th>\n",
       "      <th>SUBJECT_ID</th>\n",
       "      <th>GENDER</th>\n",
       "      <th>EXPIRE_FLAG</th>\n",
       "    </tr>\n",
       "  </thead>\n",
       "  <tbody>\n",
       "    <tr>\n",
       "      <th>45595</th>\n",
       "      <td>82574</td>\n",
       "      <td>M</td>\n",
       "      <td>0</td>\n",
       "    </tr>\n",
       "    <tr>\n",
       "      <th>19290</th>\n",
       "      <td>22932</td>\n",
       "      <td>M</td>\n",
       "      <td>0</td>\n",
       "    </tr>\n",
       "    <tr>\n",
       "      <th>10469</th>\n",
       "      <td>11896</td>\n",
       "      <td>F</td>\n",
       "      <td>0</td>\n",
       "    </tr>\n",
       "    <tr>\n",
       "      <th>32083</th>\n",
       "      <td>24041</td>\n",
       "      <td>M</td>\n",
       "      <td>0</td>\n",
       "    </tr>\n",
       "    <tr>\n",
       "      <th>10905</th>\n",
       "      <td>11980</td>\n",
       "      <td>M</td>\n",
       "      <td>1</td>\n",
       "    </tr>\n",
       "  </tbody>\n",
       "</table>\n",
       "</div>"
      ],
      "text/plain": [
       "       SUBJECT_ID GENDER  EXPIRE_FLAG\n",
       "45595       82574      M            0\n",
       "19290       22932      M            0\n",
       "10469       11896      F            0\n",
       "32083       24041      M            0\n",
       "10905       11980      M            1"
      ]
     },
     "execution_count": 26,
     "metadata": {},
     "output_type": "execute_result"
    }
   ],
   "source": [
    "#DOD is the date of death for the given patient. DOD_HOSP is the date of death as recorded in the hospital database. \n",
    "#DOD_SSN is the date of death from the social security database. We have death tim in dfAdmissions so we don't need these death columns\n",
    "dropcols = ['ROW_ID' ,'DOB','DOD','DOD_HOSP','DOD_HOSP','DOD_SSN',]\n",
    "dfPATIENTS.drop(dropcols ,axis=1,inplace=True)\n",
    "dfPATIENTS.sample(5)"
   ]
  },
  {
   "cell_type": "code",
   "execution_count": 27,
   "metadata": {},
   "outputs": [
    {
     "data": {
      "text/plain": [
       "(46520, 3)"
      ]
     },
     "execution_count": 27,
     "metadata": {},
     "output_type": "execute_result"
    }
   ],
   "source": [
    "dfPATIENTS = dfPATIENTS.drop_duplicates(['SUBJECT_ID'],keep= 'last')\n",
    "dfPATIENTS.shape"
   ]
  },
  {
   "cell_type": "markdown",
   "metadata": {},
   "source": [
    "# We have 46520 patients"
   ]
  },
  {
   "cell_type": "code",
   "execution_count": 28,
   "metadata": {},
   "outputs": [
    {
     "name": "stdout",
     "output_type": "stream",
     "text": [
      "0    30761\n",
      "1    15759\n",
      "Name: EXPIRE_FLAG, dtype: int64\n"
     ]
    }
   ],
   "source": [
    "print(dfPATIENTS['EXPIRE_FLAG'].value_counts())"
   ]
  },
  {
   "cell_type": "code",
   "execution_count": 29,
   "metadata": {},
   "outputs": [],
   "source": [
    "from functools import reduce\n",
    "df = reduce(lambda x,y: pd.merge(x,y, on='SUBJECT_ID', how='outer'), [dfADMISSIONS,dfPATIENTS])"
   ]
  },
  {
   "cell_type": "code",
   "execution_count": 30,
   "metadata": {},
   "outputs": [
    {
     "name": "stdout",
     "output_type": "stream",
     "text": [
      "<class 'pandas.core.frame.DataFrame'>\n",
      "Int64Index: 58976 entries, 0 to 58975\n",
      "Data columns (total 11 columns):\n",
      " #   Column              Non-Null Count  Dtype         \n",
      "---  ------              --------------  -----         \n",
      " 0   SUBJECT_ID          58976 non-null  int64         \n",
      " 1   HADM_ID             58976 non-null  int64         \n",
      " 2   ADMITTIME           58976 non-null  datetime64[ns]\n",
      " 3   DISCHTIME           58976 non-null  datetime64[ns]\n",
      " 4   DEATHTIME           5854 non-null   object        \n",
      " 5   ADMISSION_TYPE      58976 non-null  int64         \n",
      " 6   ADMISSION_LOCATION  58976 non-null  object        \n",
      " 7   DISCHARGE_LOCATION  58976 non-null  object        \n",
      " 8   DIAGNOSIS           58951 non-null  object        \n",
      " 9   GENDER              58976 non-null  object        \n",
      " 10  EXPIRE_FLAG         58976 non-null  int64         \n",
      "dtypes: datetime64[ns](2), int64(4), object(5)\n",
      "memory usage: 5.4+ MB\n"
     ]
    }
   ],
   "source": [
    "df.info()"
   ]
  },
  {
   "cell_type": "code",
   "execution_count": 31,
   "metadata": {},
   "outputs": [
    {
     "name": "stdout",
     "output_type": "stream",
     "text": [
      "M    32950\n",
      "F    26026\n",
      "Name: GENDER, dtype: int64\n"
     ]
    }
   ],
   "source": [
    "print(df['GENDER'].value_counts())"
   ]
  },
  {
   "cell_type": "code",
   "execution_count": 32,
   "metadata": {},
   "outputs": [],
   "source": [
    "df.GENDER = df.GENDER.replace('M', 1)\n",
    "df.GENDER = df.GENDER.replace('F', 0)"
   ]
  },
  {
   "cell_type": "code",
   "execution_count": 33,
   "metadata": {},
   "outputs": [],
   "source": [
    "df.loc[df['ADMITTIME'].notnull(), 'Admitted'] = 1"
   ]
  },
  {
   "cell_type": "code",
   "execution_count": 34,
   "metadata": {},
   "outputs": [
    {
     "name": "stdout",
     "output_type": "stream",
     "text": [
      "<class 'pandas.core.frame.DataFrame'>\n",
      "Int64Index: 58976 entries, 0 to 58975\n",
      "Data columns (total 12 columns):\n",
      " #   Column              Non-Null Count  Dtype         \n",
      "---  ------              --------------  -----         \n",
      " 0   SUBJECT_ID          58976 non-null  int64         \n",
      " 1   HADM_ID             58976 non-null  int64         \n",
      " 2   ADMITTIME           58976 non-null  datetime64[ns]\n",
      " 3   DISCHTIME           58976 non-null  datetime64[ns]\n",
      " 4   DEATHTIME           5854 non-null   object        \n",
      " 5   ADMISSION_TYPE      58976 non-null  int64         \n",
      " 6   ADMISSION_LOCATION  58976 non-null  object        \n",
      " 7   DISCHARGE_LOCATION  58976 non-null  object        \n",
      " 8   DIAGNOSIS           58951 non-null  object        \n",
      " 9   GENDER              58976 non-null  int64         \n",
      " 10  EXPIRE_FLAG         58976 non-null  int64         \n",
      " 11  Admitted            58976 non-null  float64       \n",
      "dtypes: datetime64[ns](2), float64(1), int64(5), object(4)\n",
      "memory usage: 5.8+ MB\n"
     ]
    }
   ],
   "source": [
    "df.info()"
   ]
  },
  {
   "cell_type": "code",
   "execution_count": 35,
   "metadata": {},
   "outputs": [],
   "source": [
    "dropcols = ['SUBJECT_ID','HADM_ID','ADMITTIME', 'DISCHTIME','DEATHTIME', 'ADMISSION_LOCATION','DISCHARGE_LOCATION']\n",
    "df.drop(dropcols,axis=1,inplace=True)"
   ]
  },
  {
   "cell_type": "code",
   "execution_count": 36,
   "metadata": {},
   "outputs": [
    {
     "data": {
      "text/html": [
       "<div>\n",
       "<style scoped>\n",
       "    .dataframe tbody tr th:only-of-type {\n",
       "        vertical-align: middle;\n",
       "    }\n",
       "\n",
       "    .dataframe tbody tr th {\n",
       "        vertical-align: top;\n",
       "    }\n",
       "\n",
       "    .dataframe thead th {\n",
       "        text-align: right;\n",
       "    }\n",
       "</style>\n",
       "<table border=\"1\" class=\"dataframe\">\n",
       "  <thead>\n",
       "    <tr style=\"text-align: right;\">\n",
       "      <th></th>\n",
       "      <th>ADMISSION_TYPE</th>\n",
       "      <th>DIAGNOSIS</th>\n",
       "      <th>GENDER</th>\n",
       "      <th>EXPIRE_FLAG</th>\n",
       "      <th>Admitted</th>\n",
       "    </tr>\n",
       "  </thead>\n",
       "  <tbody>\n",
       "    <tr>\n",
       "      <th>0</th>\n",
       "      <td>1</td>\n",
       "      <td>BENZODIAZEPINE OVERDOSE</td>\n",
       "      <td>0</td>\n",
       "      <td>0</td>\n",
       "      <td>1.0</td>\n",
       "    </tr>\n",
       "    <tr>\n",
       "      <th>1</th>\n",
       "      <td>3</td>\n",
       "      <td>CORONARY ARTERY DISEASE\\CORONARY ARTERY BYPASS...</td>\n",
       "      <td>1</td>\n",
       "      <td>0</td>\n",
       "      <td>1.0</td>\n",
       "    </tr>\n",
       "    <tr>\n",
       "      <th>2</th>\n",
       "      <td>1</td>\n",
       "      <td>BRAIN MASS</td>\n",
       "      <td>1</td>\n",
       "      <td>0</td>\n",
       "      <td>1.0</td>\n",
       "    </tr>\n",
       "    <tr>\n",
       "      <th>3</th>\n",
       "      <td>1</td>\n",
       "      <td>INTERIOR MYOCARDIAL INFARCTION</td>\n",
       "      <td>1</td>\n",
       "      <td>0</td>\n",
       "      <td>1.0</td>\n",
       "    </tr>\n",
       "    <tr>\n",
       "      <th>4</th>\n",
       "      <td>1</td>\n",
       "      <td>ACUTE CORONARY SYNDROME</td>\n",
       "      <td>1</td>\n",
       "      <td>0</td>\n",
       "      <td>1.0</td>\n",
       "    </tr>\n",
       "    <tr>\n",
       "      <th>...</th>\n",
       "      <td>...</td>\n",
       "      <td>...</td>\n",
       "      <td>...</td>\n",
       "      <td>...</td>\n",
       "      <td>...</td>\n",
       "    </tr>\n",
       "    <tr>\n",
       "      <th>58971</th>\n",
       "      <td>3</td>\n",
       "      <td>AORTIC STENOSIS\\AORTIC VALVE REPLACEMENT /SDA</td>\n",
       "      <td>1</td>\n",
       "      <td>0</td>\n",
       "      <td>1.0</td>\n",
       "    </tr>\n",
       "    <tr>\n",
       "      <th>58972</th>\n",
       "      <td>1</td>\n",
       "      <td>ALTERED MENTAL STATUS</td>\n",
       "      <td>1</td>\n",
       "      <td>1</td>\n",
       "      <td>1.0</td>\n",
       "    </tr>\n",
       "    <tr>\n",
       "      <th>58973</th>\n",
       "      <td>1</td>\n",
       "      <td>TRAUMA</td>\n",
       "      <td>0</td>\n",
       "      <td>0</td>\n",
       "      <td>1.0</td>\n",
       "    </tr>\n",
       "    <tr>\n",
       "      <th>58974</th>\n",
       "      <td>1</td>\n",
       "      <td>SAH</td>\n",
       "      <td>0</td>\n",
       "      <td>1</td>\n",
       "      <td>1.0</td>\n",
       "    </tr>\n",
       "    <tr>\n",
       "      <th>58975</th>\n",
       "      <td>3</td>\n",
       "      <td>RENAL CANCER/SDA</td>\n",
       "      <td>1</td>\n",
       "      <td>0</td>\n",
       "      <td>1.0</td>\n",
       "    </tr>\n",
       "  </tbody>\n",
       "</table>\n",
       "<p>58951 rows × 5 columns</p>\n",
       "</div>"
      ],
      "text/plain": [
       "       ADMISSION_TYPE                                          DIAGNOSIS  \\\n",
       "0                   1                            BENZODIAZEPINE OVERDOSE   \n",
       "1                   3  CORONARY ARTERY DISEASE\\CORONARY ARTERY BYPASS...   \n",
       "2                   1                                         BRAIN MASS   \n",
       "3                   1                     INTERIOR MYOCARDIAL INFARCTION   \n",
       "4                   1                            ACUTE CORONARY SYNDROME   \n",
       "...               ...                                                ...   \n",
       "58971               3      AORTIC STENOSIS\\AORTIC VALVE REPLACEMENT /SDA   \n",
       "58972               1                              ALTERED MENTAL STATUS   \n",
       "58973               1                                             TRAUMA   \n",
       "58974               1                                                SAH   \n",
       "58975               3                                   RENAL CANCER/SDA   \n",
       "\n",
       "       GENDER  EXPIRE_FLAG  Admitted  \n",
       "0           0            0       1.0  \n",
       "1           1            0       1.0  \n",
       "2           1            0       1.0  \n",
       "3           1            0       1.0  \n",
       "4           1            0       1.0  \n",
       "...       ...          ...       ...  \n",
       "58971       1            0       1.0  \n",
       "58972       1            1       1.0  \n",
       "58973       0            0       1.0  \n",
       "58974       0            1       1.0  \n",
       "58975       1            0       1.0  \n",
       "\n",
       "[58951 rows x 5 columns]"
      ]
     },
     "execution_count": 36,
     "metadata": {},
     "output_type": "execute_result"
    }
   ],
   "source": [
    "df.dropna()"
   ]
  },
  {
   "cell_type": "code",
   "execution_count": 37,
   "metadata": {},
   "outputs": [
    {
     "name": "stdout",
     "output_type": "stream",
     "text": [
      "<class 'pandas.core.frame.DataFrame'>\n",
      "Int64Index: 58976 entries, 0 to 58975\n",
      "Data columns (total 5 columns):\n",
      " #   Column          Non-Null Count  Dtype  \n",
      "---  ------          --------------  -----  \n",
      " 0   ADMISSION_TYPE  58976 non-null  int64  \n",
      " 1   DIAGNOSIS       58951 non-null  object \n",
      " 2   GENDER          58976 non-null  int64  \n",
      " 3   EXPIRE_FLAG     58976 non-null  int64  \n",
      " 4   Admitted        58976 non-null  float64\n",
      "dtypes: float64(1), int64(3), object(1)\n",
      "memory usage: 2.7+ MB\n"
     ]
    }
   ],
   "source": [
    "df.info()\n",
    "#save df to file locally so you don't need to re-run the entire notebaook for second model\n",
    "df.to_csv(r'C:\\Users\\mkhan74\\Documents\\MIMICiiiDup\\mergedData.csv', index=False)"
   ]
  },
  {
   "cell_type": "code",
   "execution_count": 38,
   "metadata": {},
   "outputs": [],
   "source": [
    "from sklearn import tree\n",
    "from IPython.display import Image\n",
    "%matplotlib inline\n",
    "from sklearn import preprocessing\n",
    "from sklearn.ensemble import GradientBoostingClassifier\n",
    "from sklearn.metrics import classification_report, confusion_matrix, roc_curve, auc "
   ]
  },
  {
   "cell_type": "code",
   "execution_count": 39,
   "metadata": {},
   "outputs": [],
   "source": [
    "y = df['EXPIRE_FLAG']\n",
    "X = df.drop(['EXPIRE_FLAG'],axis=1)"
   ]
  },
  {
   "cell_type": "code",
   "execution_count": 40,
   "metadata": {},
   "outputs": [
    {
     "data": {
      "text/html": [
       "<div>\n",
       "<style scoped>\n",
       "    .dataframe tbody tr th:only-of-type {\n",
       "        vertical-align: middle;\n",
       "    }\n",
       "\n",
       "    .dataframe tbody tr th {\n",
       "        vertical-align: top;\n",
       "    }\n",
       "\n",
       "    .dataframe thead th {\n",
       "        text-align: right;\n",
       "    }\n",
       "</style>\n",
       "<table border=\"1\" class=\"dataframe\">\n",
       "  <thead>\n",
       "    <tr style=\"text-align: right;\">\n",
       "      <th></th>\n",
       "      <th>ADMISSION_TYPE</th>\n",
       "      <th>DIAGNOSIS</th>\n",
       "      <th>GENDER</th>\n",
       "      <th>Admitted</th>\n",
       "    </tr>\n",
       "  </thead>\n",
       "  <tbody>\n",
       "    <tr>\n",
       "      <th>0</th>\n",
       "      <td>1</td>\n",
       "      <td>BENZODIAZEPINE OVERDOSE</td>\n",
       "      <td>0</td>\n",
       "      <td>1.0</td>\n",
       "    </tr>\n",
       "    <tr>\n",
       "      <th>1</th>\n",
       "      <td>3</td>\n",
       "      <td>CORONARY ARTERY DISEASE\\CORONARY ARTERY BYPASS...</td>\n",
       "      <td>1</td>\n",
       "      <td>1.0</td>\n",
       "    </tr>\n",
       "    <tr>\n",
       "      <th>2</th>\n",
       "      <td>1</td>\n",
       "      <td>BRAIN MASS</td>\n",
       "      <td>1</td>\n",
       "      <td>1.0</td>\n",
       "    </tr>\n",
       "    <tr>\n",
       "      <th>3</th>\n",
       "      <td>1</td>\n",
       "      <td>INTERIOR MYOCARDIAL INFARCTION</td>\n",
       "      <td>1</td>\n",
       "      <td>1.0</td>\n",
       "    </tr>\n",
       "    <tr>\n",
       "      <th>4</th>\n",
       "      <td>1</td>\n",
       "      <td>ACUTE CORONARY SYNDROME</td>\n",
       "      <td>1</td>\n",
       "      <td>1.0</td>\n",
       "    </tr>\n",
       "  </tbody>\n",
       "</table>\n",
       "</div>"
      ],
      "text/plain": [
       "   ADMISSION_TYPE                                          DIAGNOSIS  GENDER  \\\n",
       "0               1                            BENZODIAZEPINE OVERDOSE       0   \n",
       "1               3  CORONARY ARTERY DISEASE\\CORONARY ARTERY BYPASS...       1   \n",
       "2               1                                         BRAIN MASS       1   \n",
       "3               1                     INTERIOR MYOCARDIAL INFARCTION       1   \n",
       "4               1                            ACUTE CORONARY SYNDROME       1   \n",
       "\n",
       "   Admitted  \n",
       "0       1.0  \n",
       "1       1.0  \n",
       "2       1.0  \n",
       "3       1.0  \n",
       "4       1.0  "
      ]
     },
     "execution_count": 40,
     "metadata": {},
     "output_type": "execute_result"
    }
   ],
   "source": [
    "X.head()"
   ]
  },
  {
   "cell_type": "code",
   "execution_count": 41,
   "metadata": {},
   "outputs": [],
   "source": [
    "df = pd.get_dummies(X, columns=['ADMISSION_TYPE','DIAGNOSIS'])"
   ]
  },
  {
   "cell_type": "code",
   "execution_count": 42,
   "metadata": {},
   "outputs": [
    {
     "data": {
      "text/html": [
       "<div>\n",
       "<style scoped>\n",
       "    .dataframe tbody tr th:only-of-type {\n",
       "        vertical-align: middle;\n",
       "    }\n",
       "\n",
       "    .dataframe tbody tr th {\n",
       "        vertical-align: top;\n",
       "    }\n",
       "\n",
       "    .dataframe thead th {\n",
       "        text-align: right;\n",
       "    }\n",
       "</style>\n",
       "<table border=\"1\" class=\"dataframe\">\n",
       "  <thead>\n",
       "    <tr style=\"text-align: right;\">\n",
       "      <th></th>\n",
       "      <th>GENDER</th>\n",
       "      <th>Admitted</th>\n",
       "      <th>ADMISSION_TYPE_1</th>\n",
       "      <th>ADMISSION_TYPE_2</th>\n",
       "      <th>ADMISSION_TYPE_3</th>\n",
       "      <th>ADMISSION_TYPE_4</th>\n",
       "      <th>DIAGNOSIS_        MITRAL STENOSIS\\MITRAL VALVE REPLACEMENT /SDA</th>\n",
       "      <th>DIAGNOSIS_   DUODENAL MASS/SDA</th>\n",
       "      <th>DIAGNOSIS_ ? SEROTONIN SYNDROME</th>\n",
       "      <th>DIAGNOSIS_ ABDOMINAL AORTIC ANEURYSM/SDA</th>\n",
       "      <th>...</th>\n",
       "      <th>DIAGNOSIS_WOUND INFECTION R/O SEPSIS</th>\n",
       "      <th>DIAGNOSIS_WOUND INFECTION'OSTEOMYELITIS</th>\n",
       "      <th>DIAGNOSIS_WOUND INFECTION;HYPOTENSION</th>\n",
       "      <th>DIAGNOSIS_WOUND INFECTION;TELEMETRY</th>\n",
       "      <th>DIAGNOSIS_WOUND TO RLE</th>\n",
       "      <th>DIAGNOSIS_WOUND ULCER</th>\n",
       "      <th>DIAGNOSIS_ZENKER'S DIVERTICULUM/SDA</th>\n",
       "      <th>DIAGNOSIS_ZONE 2 NECK INJURY</th>\n",
       "      <th>DIAGNOSIS_ZOSTER VS. MENINGITIS</th>\n",
       "      <th>DIAGNOSIS_ZYGOMATIC FRACTURE LEFT</th>\n",
       "    </tr>\n",
       "  </thead>\n",
       "  <tbody>\n",
       "    <tr>\n",
       "      <th>0</th>\n",
       "      <td>0</td>\n",
       "      <td>1.0</td>\n",
       "      <td>1</td>\n",
       "      <td>0</td>\n",
       "      <td>0</td>\n",
       "      <td>0</td>\n",
       "      <td>0</td>\n",
       "      <td>0</td>\n",
       "      <td>0</td>\n",
       "      <td>0</td>\n",
       "      <td>...</td>\n",
       "      <td>0</td>\n",
       "      <td>0</td>\n",
       "      <td>0</td>\n",
       "      <td>0</td>\n",
       "      <td>0</td>\n",
       "      <td>0</td>\n",
       "      <td>0</td>\n",
       "      <td>0</td>\n",
       "      <td>0</td>\n",
       "      <td>0</td>\n",
       "    </tr>\n",
       "    <tr>\n",
       "      <th>1</th>\n",
       "      <td>1</td>\n",
       "      <td>1.0</td>\n",
       "      <td>0</td>\n",
       "      <td>0</td>\n",
       "      <td>1</td>\n",
       "      <td>0</td>\n",
       "      <td>0</td>\n",
       "      <td>0</td>\n",
       "      <td>0</td>\n",
       "      <td>0</td>\n",
       "      <td>...</td>\n",
       "      <td>0</td>\n",
       "      <td>0</td>\n",
       "      <td>0</td>\n",
       "      <td>0</td>\n",
       "      <td>0</td>\n",
       "      <td>0</td>\n",
       "      <td>0</td>\n",
       "      <td>0</td>\n",
       "      <td>0</td>\n",
       "      <td>0</td>\n",
       "    </tr>\n",
       "    <tr>\n",
       "      <th>2</th>\n",
       "      <td>1</td>\n",
       "      <td>1.0</td>\n",
       "      <td>1</td>\n",
       "      <td>0</td>\n",
       "      <td>0</td>\n",
       "      <td>0</td>\n",
       "      <td>0</td>\n",
       "      <td>0</td>\n",
       "      <td>0</td>\n",
       "      <td>0</td>\n",
       "      <td>...</td>\n",
       "      <td>0</td>\n",
       "      <td>0</td>\n",
       "      <td>0</td>\n",
       "      <td>0</td>\n",
       "      <td>0</td>\n",
       "      <td>0</td>\n",
       "      <td>0</td>\n",
       "      <td>0</td>\n",
       "      <td>0</td>\n",
       "      <td>0</td>\n",
       "    </tr>\n",
       "    <tr>\n",
       "      <th>3</th>\n",
       "      <td>1</td>\n",
       "      <td>1.0</td>\n",
       "      <td>1</td>\n",
       "      <td>0</td>\n",
       "      <td>0</td>\n",
       "      <td>0</td>\n",
       "      <td>0</td>\n",
       "      <td>0</td>\n",
       "      <td>0</td>\n",
       "      <td>0</td>\n",
       "      <td>...</td>\n",
       "      <td>0</td>\n",
       "      <td>0</td>\n",
       "      <td>0</td>\n",
       "      <td>0</td>\n",
       "      <td>0</td>\n",
       "      <td>0</td>\n",
       "      <td>0</td>\n",
       "      <td>0</td>\n",
       "      <td>0</td>\n",
       "      <td>0</td>\n",
       "    </tr>\n",
       "    <tr>\n",
       "      <th>4</th>\n",
       "      <td>1</td>\n",
       "      <td>1.0</td>\n",
       "      <td>1</td>\n",
       "      <td>0</td>\n",
       "      <td>0</td>\n",
       "      <td>0</td>\n",
       "      <td>0</td>\n",
       "      <td>0</td>\n",
       "      <td>0</td>\n",
       "      <td>0</td>\n",
       "      <td>...</td>\n",
       "      <td>0</td>\n",
       "      <td>0</td>\n",
       "      <td>0</td>\n",
       "      <td>0</td>\n",
       "      <td>0</td>\n",
       "      <td>0</td>\n",
       "      <td>0</td>\n",
       "      <td>0</td>\n",
       "      <td>0</td>\n",
       "      <td>0</td>\n",
       "    </tr>\n",
       "  </tbody>\n",
       "</table>\n",
       "<p>5 rows × 15697 columns</p>\n",
       "</div>"
      ],
      "text/plain": [
       "   GENDER  Admitted  ADMISSION_TYPE_1  ADMISSION_TYPE_2  ADMISSION_TYPE_3  \\\n",
       "0       0       1.0                 1                 0                 0   \n",
       "1       1       1.0                 0                 0                 1   \n",
       "2       1       1.0                 1                 0                 0   \n",
       "3       1       1.0                 1                 0                 0   \n",
       "4       1       1.0                 1                 0                 0   \n",
       "\n",
       "   ADMISSION_TYPE_4  \\\n",
       "0                 0   \n",
       "1                 0   \n",
       "2                 0   \n",
       "3                 0   \n",
       "4                 0   \n",
       "\n",
       "   DIAGNOSIS_        MITRAL STENOSIS\\MITRAL VALVE REPLACEMENT /SDA  \\\n",
       "0                                                  0                 \n",
       "1                                                  0                 \n",
       "2                                                  0                 \n",
       "3                                                  0                 \n",
       "4                                                  0                 \n",
       "\n",
       "   DIAGNOSIS_   DUODENAL MASS/SDA  DIAGNOSIS_ ? SEROTONIN SYNDROME  \\\n",
       "0                               0                                0   \n",
       "1                               0                                0   \n",
       "2                               0                                0   \n",
       "3                               0                                0   \n",
       "4                               0                                0   \n",
       "\n",
       "   DIAGNOSIS_ ABDOMINAL AORTIC ANEURYSM/SDA  ...  \\\n",
       "0                                         0  ...   \n",
       "1                                         0  ...   \n",
       "2                                         0  ...   \n",
       "3                                         0  ...   \n",
       "4                                         0  ...   \n",
       "\n",
       "   DIAGNOSIS_WOUND INFECTION R/O SEPSIS  \\\n",
       "0                                     0   \n",
       "1                                     0   \n",
       "2                                     0   \n",
       "3                                     0   \n",
       "4                                     0   \n",
       "\n",
       "   DIAGNOSIS_WOUND INFECTION'OSTEOMYELITIS  \\\n",
       "0                                        0   \n",
       "1                                        0   \n",
       "2                                        0   \n",
       "3                                        0   \n",
       "4                                        0   \n",
       "\n",
       "   DIAGNOSIS_WOUND INFECTION;HYPOTENSION  DIAGNOSIS_WOUND INFECTION;TELEMETRY  \\\n",
       "0                                      0                                    0   \n",
       "1                                      0                                    0   \n",
       "2                                      0                                    0   \n",
       "3                                      0                                    0   \n",
       "4                                      0                                    0   \n",
       "\n",
       "   DIAGNOSIS_WOUND TO RLE  DIAGNOSIS_WOUND ULCER  \\\n",
       "0                       0                      0   \n",
       "1                       0                      0   \n",
       "2                       0                      0   \n",
       "3                       0                      0   \n",
       "4                       0                      0   \n",
       "\n",
       "   DIAGNOSIS_ZENKER'S DIVERTICULUM/SDA  DIAGNOSIS_ZONE 2 NECK INJURY  \\\n",
       "0                                    0                             0   \n",
       "1                                    0                             0   \n",
       "2                                    0                             0   \n",
       "3                                    0                             0   \n",
       "4                                    0                             0   \n",
       "\n",
       "   DIAGNOSIS_ZOSTER VS. MENINGITIS  DIAGNOSIS_ZYGOMATIC FRACTURE LEFT  \n",
       "0                                0                                  0  \n",
       "1                                0                                  0  \n",
       "2                                0                                  0  \n",
       "3                                0                                  0  \n",
       "4                                0                                  0  \n",
       "\n",
       "[5 rows x 15697 columns]"
      ]
     },
     "execution_count": 42,
     "metadata": {},
     "output_type": "execute_result"
    }
   ],
   "source": [
    "df.head()"
   ]
  },
  {
   "cell_type": "code",
   "execution_count": 43,
   "metadata": {},
   "outputs": [
    {
     "name": "stdout",
     "output_type": "stream",
     "text": [
      "<class 'pandas.core.frame.DataFrame'>\n",
      "Int64Index: 58976 entries, 0 to 58975\n",
      "Columns: 15697 entries, GENDER to DIAGNOSIS_ZYGOMATIC FRACTURE LEFT\n",
      "dtypes: float64(1), int64(1), uint8(15695)\n",
      "memory usage: 884.1 MB\n"
     ]
    }
   ],
   "source": [
    "df.info()"
   ]
  },
  {
   "cell_type": "code",
   "execution_count": 44,
   "metadata": {},
   "outputs": [],
   "source": [
    "scaler = preprocessing.StandardScaler().fit(df)\n",
    "X_scaled = scaler.transform(df)"
   ]
  },
  {
   "cell_type": "code",
   "execution_count": 45,
   "metadata": {},
   "outputs": [],
   "source": [
    "from sklearn.model_selection import train_test_split\n",
    "X_train, X_test, y_train, y_test = train_test_split(X_scaled, y, test_size=.25, random_state=1)"
   ]
  },
  {
   "cell_type": "code",
   "execution_count": 46,
   "metadata": {},
   "outputs": [
    {
     "name": "stdout",
     "output_type": "stream",
     "text": [
      "Learning rate:  0.05\n",
      "Accuracy score (training): 0.615\n",
      "Accuracy score (validation): 0.623\n",
      "\n",
      "Learning rate:  0.1\n",
      "Accuracy score (training): 0.618\n",
      "Accuracy score (validation): 0.625\n",
      "\n",
      "Learning rate:  0.25\n",
      "Accuracy score (training): 0.644\n",
      "Accuracy score (validation): 0.633\n",
      "\n",
      "Learning rate:  0.5\n",
      "Accuracy score (training): 0.667\n",
      "Accuracy score (validation): 0.653\n",
      "\n",
      "Learning rate:  0.75\n",
      "Accuracy score (training): 0.666\n",
      "Accuracy score (validation): 0.651\n",
      "\n",
      "Learning rate:  1\n",
      "Accuracy score (training): 0.666\n",
      "Accuracy score (validation): 0.650\n",
      "\n"
     ]
    }
   ],
   "source": [
    "learning_rates = [0.05, 0.1, 0.25, 0.5, 0.75, 1]\n",
    "for learning_rate in learning_rates:\n",
    "    gb = GradientBoostingClassifier(n_estimators=100, learning_rate = learning_rate, max_features=20, max_depth = 7, random_state = 0)\n",
    "    gb.fit(X_train, y_train)\n",
    "    print(\"Learning rate: \", learning_rate)\n",
    "    print(\"Accuracy score (training): {0:.3f}\".format(gb.score(X_train, y_train)))\n",
    "    print(\"Accuracy score (validation): {0:.3f}\".format(gb.score(X_test, y_test)))\n",
    "    print()"
   ]
  },
  {
   "cell_type": "code",
   "execution_count": 47,
   "metadata": {},
   "outputs": [
    {
     "name": "stdout",
     "output_type": "stream",
     "text": [
      "Confusion Matrix:\n",
      "[[8063 1126]\n",
      " [3787 1768]]\n",
      "Classification Report\n",
      "              precision    recall  f1-score   support\n",
      "\n",
      "           0       0.68      0.88      0.77      9189\n",
      "           1       0.61      0.32      0.42      5555\n",
      "\n",
      "    accuracy                           0.67     14744\n",
      "   macro avg       0.65      0.60      0.59     14744\n",
      "weighted avg       0.65      0.67      0.64     14744\n",
      "\n"
     ]
    }
   ],
   "source": [
    "# https://scikit-learn.org/stable/modules/generated/sklearn.ensemble.GradientBoostingClassifier.html\n",
    "#create the classifer\n",
    "gbc = GradientBoostingClassifier(n_estimators=300, learning_rate=.5, max_features=30, max_depth=10, random_state=0)\n",
    "#now fit the model\n",
    "model = gbc.fit(X_train, y_train)\n",
    "#predict\n",
    "y_pred = model.predict(X_test)\n",
    "\n",
    "print(\"Confusion Matrix:\")\n",
    "print(confusion_matrix(y_test, y_pred))\n",
    "\n",
    "print(\"Classification Report\")\n",
    "print(classification_report(y_test, y_pred))"
   ]
  },
  {
   "cell_type": "code",
   "execution_count": 48,
   "metadata": {},
   "outputs": [
    {
     "name": "stdout",
     "output_type": "stream",
     "text": [
      "Accuracy score (training): 0.726\n",
      "Accuracy score (validation): 0.667\n"
     ]
    },
    {
     "data": {
      "image/png": "[encoded data removed]",
      "text/plain": [
       "<Figure size 432x288 with 1 Axes>"
      ]
     },
     "metadata": {
      "needs_background": "light"
     },
     "output_type": "display_data"
    }
   ],
   "source": [
    "#https://machinelearningmastery.com/roc-curves-and-precision-recall-curves-for-classification-in-python/\n",
    "fp, tp, _ = roc_curve(y_test, y_pred)\n",
    "print(\"Accuracy score (training): {0:.3f}\".format(gbc.score(X_train, y_train)))\n",
    "print(\"Accuracy score (validation): {0:.3f}\".format(gbc.score(X_test, y_test)))\n",
    "plt.plot(fp, tp)\n",
    "plt.xlabel('False positive rate')\n",
    "plt.ylabel('True positive rate')\n",
    "plt.title('ROC curve')\n",
    "plt.show()"
   ]
  },
  {
   "cell_type": "markdown",
   "metadata": {},
   "source": [
    "# Read in the Cleaned file and use Logistic Regression for the same problem. "
   ]
  },
  {
   "cell_type": "code",
   "execution_count": 49,
   "metadata": {},
   "outputs": [],
   "source": [
    "df2 = pd.read_csv(r'C:\\Users\\mkhan74\\Documents\\MIMICiiiDup\\mergedData.csv')"
   ]
  },
  {
   "cell_type": "code",
   "execution_count": 50,
   "metadata": {},
   "outputs": [
    {
     "name": "stdout",
     "output_type": "stream",
     "text": [
      "<class 'pandas.core.frame.DataFrame'>\n",
      "RangeIndex: 58976 entries, 0 to 58975\n",
      "Data columns (total 5 columns):\n",
      " #   Column          Non-Null Count  Dtype  \n",
      "---  ------          --------------  -----  \n",
      " 0   ADMISSION_TYPE  58976 non-null  int64  \n",
      " 1   DIAGNOSIS       58951 non-null  object \n",
      " 2   GENDER          58976 non-null  int64  \n",
      " 3   EXPIRE_FLAG     58976 non-null  int64  \n",
      " 4   Admitted        58976 non-null  float64\n",
      "dtypes: float64(1), int64(3), object(1)\n",
      "memory usage: 2.2+ MB\n"
     ]
    }
   ],
   "source": [
    "df2.info()"
   ]
  },
  {
   "cell_type": "code",
   "execution_count": 51,
   "metadata": {},
   "outputs": [],
   "source": [
    "df2 = pd.get_dummies(X, columns=['ADMISSION_TYPE','DIAGNOSIS'])"
   ]
  },
  {
   "cell_type": "code",
   "execution_count": 52,
   "metadata": {},
   "outputs": [],
   "source": [
    "import sklearn\n",
    "from IPython.display import Image\n",
    "%matplotlib inline\n",
    "from sklearn import preprocessing\n",
    "from sklearn.linear_model import LogisticRegression\n",
    "from sklearn.metrics import classification_report, confusion_matrix, roc_curve, auc "
   ]
  },
  {
   "cell_type": "code",
   "execution_count": 53,
   "metadata": {},
   "outputs": [],
   "source": [
    "from sklearn.model_selection import train_test_split\n",
    "X_train, X_test, y_train, y_test = train_test_split(X_scaled, y, test_size=.25, random_state=1)"
   ]
  },
  {
   "cell_type": "code",
   "execution_count": 54,
   "metadata": {},
   "outputs": [],
   "source": [
    "scaler = preprocessing.StandardScaler().fit(df2)\n",
    "X_scaled = scaler.transform(df2)"
   ]
  },
  {
   "cell_type": "code",
   "execution_count": 55,
   "metadata": {},
   "outputs": [
    {
     "data": {
      "text/plain": [
       "LogisticRegression(class_weight='balanced', max_iter=300)"
      ]
     },
     "execution_count": 55,
     "metadata": {},
     "output_type": "execute_result"
    }
   ],
   "source": [
    "classifier  = LogisticRegression(class_weight='balanced',max_iter=300)\n",
    "classifier.fit(X_train, y_train)"
   ]
  },
  {
   "cell_type": "code",
   "execution_count": 56,
   "metadata": {},
   "outputs": [
    {
     "name": "stdout",
     "output_type": "stream",
     "text": [
      "[[4491 4698]\n",
      " [ 885 4670]]\n"
     ]
    }
   ],
   "source": [
    "y_pred = classifier.predict(X_test)\n",
    "from sklearn.metrics import confusion_matrix\n",
    "confusion_matrix = confusion_matrix(y_test, y_pred)\n",
    "print(confusion_matrix)"
   ]
  },
  {
   "cell_type": "code",
   "execution_count": 57,
   "metadata": {},
   "outputs": [
    {
     "name": "stdout",
     "output_type": "stream",
     "text": [
      "Accuracy of logistic regression classifier on test set: 0.62\n"
     ]
    }
   ],
   "source": [
    "print('Accuracy of logistic regression classifier on test set: {:.2f}'.format(classifier.score(X_test, y_test)))"
   ]
  },
  {
   "cell_type": "code",
   "execution_count": 58,
   "metadata": {},
   "outputs": [
    {
     "name": "stdout",
     "output_type": "stream",
     "text": [
      "              precision    recall  f1-score   support\n",
      "\n",
      "           0       0.84      0.49      0.62      9189\n",
      "           1       0.50      0.84      0.63      5555\n",
      "\n",
      "    accuracy                           0.62     14744\n",
      "   macro avg       0.67      0.66      0.62     14744\n",
      "weighted avg       0.71      0.62      0.62     14744\n",
      "\n"
     ]
    }
   ],
   "source": [
    "from sklearn.metrics import classification_report\n",
    "print(classification_report(y_test, y_pred))"
   ]
  },
  {
   "cell_type": "code",
   "execution_count": 59,
   "metadata": {},
   "outputs": [
    {
     "name": "stdout",
     "output_type": "stream",
     "text": [
      "Accuracy score (training): 0.777\n",
      "Accuracy score (validation): 0.621\n"
     ]
    },
    {
     "data": {
      "image/png": "[encoded data removed]",
      "text/plain": [
       "<Figure size 432x288 with 1 Axes>"
      ]
     },
     "metadata": {
      "needs_background": "light"
     },
     "output_type": "display_data"
    }
   ],
   "source": [
    "fp, tp, _ = roc_curve(y_test, y_pred)\n",
    "print(\"Accuracy score (training): {0:.3f}\".format(classifier.score(X_train, y_train)))\n",
    "print(\"Accuracy score (validation): {0:.3f}\".format(classifier.score(X_test, y_test)))\n",
    "plt.plot(fp, tp)\n",
    "plt.xlabel('False positive rate')\n",
    "plt.ylabel('True positive rate')\n",
    "plt.title('ROC curve')\n",
    "plt.show()"
   ]
  },
  {
   "cell_type": "code",
   "execution_count": null,
   "metadata": {},
   "outputs": [],
   "source": []
  }
 ],
 "metadata": {
  "kernelspec": {
   "display_name": "Python 3",
   "language": "python",
   "name": "python3"
  },
  "language_info": {
   "codemirror_mode": {
    "name": "ipython",
    "version": 3
   },
   "file_extension": ".py",
   "mimetype": "text/x-python",
   "name": "python",
   "nbconvert_exporter": "python",
   "pygments_lexer": "ipython3",
   "version": "3.8.5"
  }
 },
 "nbformat": 4,
 "nbformat_minor": 4
}
